{
 "cells": [
  {
   "cell_type": "markdown",
   "id": "e4cbcc77",
   "metadata": {},
   "source": [
    "## 1.Create a function that takes a base number and an exponent number and returns the calculation.\n",
    "\n",
    "### Examples\n",
    "* calculate_exponent(5, 5) ➞ 3125\n",
    "\n",
    "* calculate_exponent(10, 10) ➞ 10000000000\n",
    "\n",
    "* calculate_exponent(3, 3) ➞ 27"
   ]
  },
  {
   "cell_type": "code",
   "execution_count": 1,
   "id": "657508d1",
   "metadata": {},
   "outputs": [
    {
     "name": "stdout",
     "output_type": "stream",
     "text": [
      "10\n",
      "3\n",
      "1000\n"
     ]
    }
   ],
   "source": [
    "base = int(input())\n",
    "exponent = int(input())\n",
    "\n",
    "result = 1\n",
    "for _ in range(exponent):\n",
    "    result *= base\n",
    "print(result)"
   ]
  },
  {
   "cell_type": "markdown",
   "id": "0271f69c",
   "metadata": {},
   "source": [
    "#2 Create a function that takes a list of n numbers. Return the  n largest number in the list"
   ]
  },
  {
   "cell_type": "code",
   "execution_count": null,
   "id": "f7ba1467",
   "metadata": {},
   "outputs": [],
   "source": [
    "base = int(input())\n",
    "exponent = int(input())\n",
    "\n",
    "result = 1\n",
    "for _ in range(exponent):\n",
    "    result *= base\n",
    "print(result)"
   ]
  },
  {
   "cell_type": "markdown",
   "id": "45b5d72f",
   "metadata": {},
   "source": [
    "\n",
    "\n",
    "# 3 Create a function that takes a list of n numbers and returns the smallest number in the list\n",
    "\n"
   ]
  },
  {
   "cell_type": "code",
   "execution_count": null,
   "id": "b1984c7c",
   "metadata": {},
   "outputs": [],
   "source": [
    "input_list = [int(x) for x in input(\"Enter a list of numbers separated by spaces: \").split()]\n",
    "smallest_number = input_list[0]\n",
    "\n",
    "for num in input_list:\n",
    "    if num < smallest_number:\n",
    "        smallest_number = num\n",
    "\n",
    "print(\"Smallest number:\", smallest_number)"
   ]
  },
  {
   "cell_type": "code",
   "execution_count": null,
   "id": "e81867b2",
   "metadata": {},
   "outputs": [],
   "source": [
    "#4 Create a function that takes a list and returns the difference between the biggest and smallest numbers.\n",
    "difference_max_min([10, 4, 1, 4, -10, -50, 32, 21]) ➞ 82\n",
    "# Smallest number is -50, biggest is 32.\n"
   ]
  },
  {
   "cell_type": "code",
   "execution_count": null,
   "id": "4bb899df",
   "metadata": {},
   "outputs": [],
   "source": [
    "input_list = [int(x) for x in input(\"Enter a list of numbers separated by spaces: \").split()]\n",
    "largest_number = input_list[0]\n",
    "smallest_number = input_list[0]\n",
    "\n",
    "for num in input_list:\n",
    "    if num > largest_number:\n",
    "        largest_number = num\n",
    "    if num < smallest_number:\n",
    "        smallest_number = num\n",
    "\n",
    "difference = largest_number - smallest_number\n",
    "\n",
    "print(\"Difference between largest and smallest:\", difference)"
   ]
  },
  {
   "cell_type": "markdown",
   "id": "9857e571",
   "metadata": {},
   "source": [
    "#5 Create a function that takes a list and returns the sum of all numbers in the list"
   ]
  },
  {
   "cell_type": "code",
   "execution_count": null,
   "id": "50e38eca",
   "metadata": {},
   "outputs": [],
   "source": [
    "input_list = [int(x) for x in input(\"Enter a list of numbers separated by spaces: \").split()]\n",
    "sum_of_numbers = 0\n",
    "\n",
    "for num in input_list:\n",
    "    sum_of_numbers += num\n",
    "\n",
    "print(\"Sum of all numbers:\", sum_of_numbers)"
   ]
  },
  {
   "cell_type": "markdown",
   "id": "af50f76f",
   "metadata": {},
   "source": [
    "#6 Create a function that takes a number (from 1 - 60) and returns a corresponding string of hyphens."
   ]
  },
  {
   "cell_type": "code",
   "execution_count": null,
   "id": "e8aafa71",
   "metadata": {},
   "outputs": [],
   "source": [
    "num = int(input(\"Enter a number from 1 to 60: \"))\n",
    "hyphen_string = \"\"\n",
    "\n",
    "for i in range(num):\n",
    "    hyphen_string += \"-\"\n",
    "    \n",
    "print(hyphen_string)"
   ]
  },
  {
   "cell_type": "markdown",
   "id": "f81c1b0e",
   "metadata": {},
   "source": [
    "#7 Write a function that takes an integer and returns a string with the given number of \"a\"s in Edabit."
   ]
  },
  {
   "cell_type": "code",
   "execution_count": null,
   "id": "8cf6cdb5",
   "metadata": {},
   "outputs": [],
   "source": [
    "num = int(input(\"Enter a number: \"))\n",
    "result = \"Ed\"\n",
    "\n",
    "for i in range(num):\n",
    "    result += \"a\"\n",
    "result += \"bit\"\n",
    "\n",
    "print(result)"
   ]
  },
  {
   "cell_type": "markdown",
   "id": "b7407bfb",
   "metadata": {},
   "source": [
    "#8 Mubashir created an infinite loop! Help him by fixing the code in the code tab to pass this challenge. Look at the examples below to get an idea of what the function should do."
   ]
  },
  {
   "cell_type": "code",
   "execution_count": null,
   "id": "81a19e7c",
   "metadata": {},
   "outputs": [],
   "source": [
    "input_values = [5, 4, 3, 2, 1, 0]\n",
    "result = True\n",
    "\n",
    "for value in input_values:\n",
    "    if not value:\n",
    "        result = False\n",
    "        break\n",
    "\n",
    "print(result)"
   ]
  },
  {
   "cell_type": "markdown",
   "id": "b301145c",
   "metadata": {},
   "source": [
    "## 9.Create a function that returns True if all parameters are truthy, and False otherwise."
   ]
  },
  {
   "cell_type": "code",
   "execution_count": null,
   "id": "6091b199",
   "metadata": {},
   "outputs": [],
   "source": [
    "num = int(input(\"Enter a number: \"))\n",
    "result = []\n",
    "\n",
    "for current_number in range(1, num + 1):\n",
    "    result.append(current_number)\n",
    "\n",
    "print(result)"
   ]
  },
  {
   "cell_type": "markdown",
   "id": "2c53341f",
   "metadata": {},
   "source": [
    "## 10.Create a function that returns the last value of the last item in a list or string."
   ]
  },
  {
   "cell_type": "code",
   "execution_count": null,
   "id": "3084955a",
   "metadata": {},
   "outputs": [],
   "source": [
    "input_value = input(\"Enter a list or string: \")\n",
    "last_item = None\n",
    "\n",
    "for item in input_value:\n",
    "    last_item = item\n",
    "\n",
    "print(\"Last value of the last item:\", last_item)"
   ]
  },
  {
   "cell_type": "markdown",
   "id": "016925ae",
   "metadata": {},
   "source": [
    "## 11.Write a function that turns a comma-delimited list into an array of strings."
   ]
  },
  {
   "cell_type": "code",
   "execution_count": null,
   "id": "bf5a12d2",
   "metadata": {},
   "outputs": [],
   "source": [
    "input_string = input(\"Enter a comma-delimited list: \")\n",
    "string_array = []\n",
    "current_string = \"\"\n",
    "\n",
    "for char in input_string:\n",
    "    if char == \",\":\n",
    "        string_array.append(current_string)\n",
    "        current_string = \"\"\n",
    "    else:\n",
    "        current_string += char\n",
    "\n",
    "string_array.append(current_string)\n",
    "\n",
    "print(string_array)\n"
   ]
  },
  {
   "cell_type": "markdown",
   "id": "88eb212a",
   "metadata": {},
   "source": [
    "## 12.Scientists have discovered that in four decades, the world will EXPLODE! It will also take three decades to make a spaceship to travel to a new planet that can hold the entire world population."
   ]
  },
  {
   "cell_type": "code",
   "execution_count": null,
   "id": "4c3ec498",
   "metadata": {},
   "outputs": [],
   "source": [
    "current_population = int(input(\"Enter the current world population: \"))\n",
    "births_per_month = int(input(\"Enter the number of births per month: \"))\n",
    "years_in_future = 30\n",
    "months_in_three_decades = years_in_future * 12\n",
    "future_population = current_population\n",
    "\n",
    "for months_passed in range(months_in_three_decades):\n",
    "    future_population += births_per_month\n",
    "\n",
    "print(\"Number of people in three decades:\", future_population)\n",
    "    \n"
   ]
  },
  {
   "cell_type": "markdown",
   "id": "63a522c6",
   "metadata": {},
   "source": [
    "## 13.Create a function that returns a number, based on the string provided. Here is a list of all digits:\n",
    "\n",
    "String\tNumber\n",
    "\n",
    "\"one\"\t1\n",
    "\n",
    "\"two\"\t2\n",
    "\n",
    "\"three\"\t3\n",
    "\n",
    "\"four\"\t4\n",
    "\n",
    "\"five\"\t5\n",
    "\n",
    "\"six\"\t6\n",
    "\n",
    "\"seven\"\t7\n",
    "\n",
    "\"eight\"\t8\n",
    "\n",
    "\"nine\"\t9\n",
    "\n",
    "\"zero\"\t0\n",
    "\n",
    "\n",
    "### Examples\n",
    "* word(\"one\") ➞ 1\n",
    "\n",
    "* word(\"two\") ➞ 2\n",
    "\n",
    "* word(\"nine\") ➞ 9"
   ]
  },
  {
   "cell_type": "code",
   "execution_count": null,
   "id": "f59dd275",
   "metadata": {},
   "outputs": [],
   "source": [
    "string_to_number = {\"one\": 1,\"two\": 2,\"three\": 3,\"four\": 4,\"five\": 5,\"six\": 6,\"seven\": 7,\"eight\": 8,\"nine\": 9,\"zero\": 0}\n",
    "input_string = \"four\"\n",
    "result = None\n",
    "for key, value in string_to_number.items():\n",
    "    if key == input_string:\n",
    "        result = value\n",
    "        break\n",
    "\n",
    "print(result)  "
   ]
  },
  {
   "cell_type": "markdown",
   "id": "0ae9e3e1",
   "metadata": {},
   "source": [
    "## 14.Create a function that takes two strings as arguments and returns the number of times the first string (the single character) is found in the second string.\n",
    "\n",
    "### Examples\n",
    "* char_count(\"a\", \"edabit\") ➞ 1\n",
    "\n",
    "* char_count(\"c\", \"Chamber of secrets\") ➞ 1\n",
    "\n",
    "* char_count(\"b\", \"big fat bubble\") ➞ 4"
   ]
  },
  {
   "cell_type": "code",
   "execution_count": null,
   "id": "5b81125c",
   "metadata": {},
   "outputs": [],
   "source": [
    "char_to_count = \"a\"  \n",
    "input_string = \"banana\"\n",
    "\n",
    "count = 0\n",
    "\n",
    "for char in input_string:\n",
    "    if char == char_to_count:\n",
    "        count += 1\n",
    "\n",
    "print(count)"
   ]
  },
  {
   "cell_type": "markdown",
   "id": "12bc12a8",
   "metadata": {},
   "source": [
    "## 15.Create a function that takes a list and a string as arguments and returns the index of the string.\n",
    "\n",
    "### Examples\n",
    "* find_index([\"hi\", \"edabit\", \"fgh\", \"abc\"], \"fgh\") ➞ 2\n",
    "\n",
    "* find_index([\"Red\", \"blue\", \"Blue\", \"Green\"], \"blue\") ➞ 1\n",
    "\n",
    "* find_index([\"a\", \"g\", \"y\", \"d\"], \"d\") ➞ 3\n",
    "* find_index([\"Pineapple\", \"Orange\", \"Grape\", \"Apple\"], \"Pineapple\") ➞ 0"
   ]
  },
  {
   "cell_type": "code",
   "execution_count": null,
   "id": "57ae0358",
   "metadata": {},
   "outputs": [],
   "source": [
    "my_list = [\"apple\", \"banana\", \"cherry\", \"date\"]\n",
    "search_string = \"cherry\"\n",
    "\n",
    "index = None\n",
    "\n",
    "for i in range(len(my_list)):\n",
    "    if my_list[i] == search_string:\n",
    "        index = i\n",
    "        break\n",
    "\n",
    "print(index)"
   ]
  },
  {
   "cell_type": "markdown",
   "id": "c06bf474",
   "metadata": {},
   "source": [
    "## 16.Create a function which returns the length of a string, without using len().\n",
    "\n",
    "### Examples\n",
    "* length(\"Hello World\") ➞ 11\n",
    "\n",
    "* length(\"Edabit\") ➞ 6\n",
    "\n",
    "* length(\"wash your hands!\") ➞ 16"
   ]
  },
  {
   "cell_type": "code",
   "execution_count": null,
   "id": "fbedb7e8",
   "metadata": {},
   "outputs": [],
   "source": [
    "my_string = \"Hello, World!\"\n",
    "\n",
    "count = 0\n",
    "\n",
    "for _ in my_string:\n",
    "    count += 1\n",
    "\n",
    "print(count)"
   ]
  },
  {
   "cell_type": "code",
   "execution_count": null,
   "id": "bb16bc64",
   "metadata": {},
   "outputs": [],
   "source": [
    "## 17.Create a function that takes a 2D list lst and returns the sum of the minimum value in each row.\n",
    "\n",
    "### Examples\n",
    "* sum_minimums([\n",
    "  [1, 2, 3, 4, 5],\n",
    "  [5, 6, 7, 8, 9],\n",
    "  [20, 21, 34, 56, 100]\n",
    "]) ➞ 26\n",
    "\n",
    "#minimum value of the first row is 1\n",
    "\n",
    "#minimum value of the second row is 5\n",
    "\n",
    "#minimum value of the third row is 20"
   ]
  },
  {
   "cell_type": "code",
   "execution_count": null,
   "id": "018f9552",
   "metadata": {},
   "outputs": [],
   "source": [
    "lst = [[1, 2, 3],[4, 5, 6],[7, 8, 9]]\n",
    "sum_of_min = 0\n",
    "\n",
    "for row in lst:\n",
    "    min_value = min(row)\n",
    "    sum_of_min += min_value\n",
    "\n",
    "print(sum_of_min) "
   ]
  },
  {
   "cell_type": "markdown",
   "id": "df52f87f",
   "metadata": {},
   "source": [
    "## 18.Given a letter and a list of words, return whether the letter does not appear in any of the words.\n",
    "\n",
    "### Examples\n",
    "* forbidden_letter(\"r\", [\"rock\", \"paper\", \"scissors\"]) ➞ False\n",
    "* forbidden_letter(\"a\", [\"spoon\", \"fork\", \"knife\"]) ➞ True\n",
    "\n",
    "* forbidden_letter(\"m\", []) ➞ True"
   ]
  },
  {
   "cell_type": "code",
   "execution_count": null,
   "id": "3aeca5cf",
   "metadata": {},
   "outputs": [],
   "source": [
    "letter = 'x'\n",
    "word_list = ['apple', 'banana', 'cherry', 'date']\n",
    "\n",
    "letter_not_found = True\n",
    "\n",
    "for word in word_list:\n",
    "    if letter in word:\n",
    "        letter_not_found = False\n",
    "        break \n",
    "\n",
    "\n",
    "if letter_not_found:\n",
    "    print(True)\n",
    "else:\n",
    "    print(False)"
   ]
  },
  {
   "cell_type": "markdown",
   "id": "523cb3e5",
   "metadata": {},
   "source": [
    "## 19.Create a function that finds each factor of a given number n. Your solution should return a list of the number(s) that meet this criteria.\n",
    "\n",
    "### Examples\n",
    "* find_factors(9) ➞ [1, 3, 9]\n",
    "#9 has three factors 1, 3 and 9\n",
    "\n",
    "* find_factors(12) ➞ [1, 2, 3, 4, 6, 12]\n",
    "\n",
    "* find_factors(20) ➞ [1, 2, 4, 5, 10, 20]\n",
    "\n",
    "* find_factors(0) ➞ []\n",
    "#0 has no factors"
   ]
  },
  {
   "cell_type": "code",
   "execution_count": null,
   "id": "1feb3bf4",
   "metadata": {},
   "outputs": [],
   "source": [
    "n = 12\n",
    "\n",
    "factors = []\n",
    "\n",
    "\n",
    "for i in range(1, n + 1):\n",
    "    if n % i == 0:\n",
    "        factors.append(i)\n",
    "\n",
    "print(factors)"
   ]
  },
  {
   "cell_type": "markdown",
   "id": "eeb1e0ba",
   "metadata": {},
   "source": [
    "## 20.Given a string, create a function to reverse the case. All lower-cased letters should be upper-cased, and vice versa.\n",
    "\n",
    "### Examples\n",
    "* reverse_case(\"Happy Birthday\") ➞ \"hAPPY bIRTHDAY\"\n",
    "\n",
    "* reverse_case(\"MANY THANKS\") ➞ \"many thanks\"\n",
    "\n",
    "* reverse_case(\"sPoNtAnEoUs\") ➞ \"SpOnTaNeOuS\"\n"
   ]
  },
  {
   "cell_type": "code",
   "execution_count": null,
   "id": "7b7e4016",
   "metadata": {},
   "outputs": [],
   "source": [
    "input_string = \"Hello, World!\"\n",
    "\n",
    "result_string = \"\"\n",
    "\n",
    "for char in input_string:\n",
    "    if char.isupper():\n",
    "        result_string += char.lower()\n",
    "    elif char.islower():\n",
    "        result_string += char.upper()\n",
    "    else:\n",
    "        result_string += char \n",
    "\n",
    "print(result_string)"
   ]
  },
  {
   "cell_type": "markdown",
   "id": "82ce0ecb",
   "metadata": {},
   "source": [
    "## 21.Create a function that returns the number of hashes and pluses in a string.\n",
    "\n",
    "### Examples\n",
    "* hash_plus_count(\"###+\") ➞ [3, 1]\n",
    "\n",
    "* hash_plus_count(\"##+++#\") ➞ [3, 3]\n",
    "\n",
    "* hash_plus_count(\"#+++#+#++#\") ➞ [4, 6]\n",
    "\n",
    "* hash_plus_count(\"\") ➞ [0, 0]"
   ]
  },
  {
   "cell_type": "code",
   "execution_count": 3,
   "id": "f9fc7255",
   "metadata": {},
   "outputs": [
    {
     "name": "stdout",
     "output_type": "stream",
     "text": [
      "5 5\n"
     ]
    }
   ],
   "source": [
    "input_string = \"##+++###++\"\n",
    "hash_count = 0\n",
    "plus_count = 0\n",
    "\n",
    "\n",
    "for char in input_string:\n",
    "    if char == '#':\n",
    "        hash_count += 1\n",
    "    elif char == '+':\n",
    "        plus_count += 1\n",
    "\n",
    "print(hash_count,plus_count)\n"
   ]
  },
  {
   "cell_type": "markdown",
   "id": "5eb8ad5f",
   "metadata": {},
   "source": [
    "## 22.Given a one word lowercase string txt, return another string such that even-indexed and odd-indexed characters are grouped and groups are space-separated.\n",
    "\n",
    "### Examples\n",
    "* even_odd_string(\"mubashir\") ➞ \"mbsi uahr\"\n",
    "#Letters at even indexes = \"mbsi\"\n",
    "\n",
    "#Letters at odd indexes = \"uahr\"\n",
    "\n",
    "#Join both strings with a space\n",
    "\n",
    "* even_odd_string(\"edabit\") ➞ \"eai dbt\"\n",
    "\n",
    "* even_odd_string(\"airforce\") ➞ \"aroc ifre\"\n"
   ]
  },
  {
   "cell_type": "code",
   "execution_count": null,
   "id": "b0b0fff7",
   "metadata": {},
   "outputs": [],
   "source": [
    "txt = \"hello\" \n",
    "even_chars = \"\"\n",
    "odd_chars = \"\"\n",
    "\n",
    "for i in range(len(txt)):\n",
    "    if i % 2 == 0:\n",
    "        even_chars += txt[i]\n",
    "    else:\n",
    "        odd_chars += txt[i]\n",
    "\n",
    "result = even_chars + \" \" + odd_chars\n",
    "\n",
    "print(result)  "
   ]
  },
  {
   "cell_type": "markdown",
   "id": "8e2926b0",
   "metadata": {},
   "source": [
    "## 23.Create a function which returns the total of all odd numbers up to and including n. n will be given as an odd number.\n",
    "\n",
    "### Examples\n",
    "* add_odd_to_n(5) ➞ 9\n",
    "#1 + 3 + 5 = 9\n",
    "\n",
    "* add_odd_to_n(13) ➞ 49\n",
    "\n",
    "* add_odd_to_n(47) ➞ 576"
   ]
  },
  {
   "cell_type": "code",
   "execution_count": null,
   "id": "d61cf422",
   "metadata": {},
   "outputs": [],
   "source": [
    "n = 7\n",
    "total = 0\n",
    "for i in range(1, n + 1, 2):\n",
    "    total += i\n",
    "print(total)"
   ]
  },
  {
   "cell_type": "markdown",
   "id": "e96f1c55",
   "metadata": {},
   "source": [
    "## 24.Create a function that takes a number n and returns the sum of all square numbers up to and including n.\n",
    "\n",
    "## squares_sum(3) ➞ 14\n",
    "## 1² + 2² + 3² =\n",
    "## 1 + 4 + 9 =\n",
    "## 14\n",
    "### Examples\n",
    "* squares_sum(3) ➞ 14\n",
    "\n",
    "* squares_sum(12) ➞ 650\n",
    "\n",
    "* squares_sum(13) ➞ 819"
   ]
  },
  {
   "cell_type": "code",
   "execution_count": null,
   "id": "129a64d0",
   "metadata": {},
   "outputs": [],
   "source": [
    "n = 10\n",
    "sum_of_squares = 0\n",
    "\n",
    "for i in range(1, n + 1):\n",
    "    square = i * i\n",
    "    if square <= n:\n",
    "        sum_of_squares += square\n",
    "\n",
    "print(sum_of_squares)"
   ]
  },
  {
   "cell_type": "markdown",
   "id": "b3a54cb0",
   "metadata": {},
   "source": [
    "## 25.Given a list of numbers, negate all elements contained within.\n",
    "\n",
    "## Negating a positive value -+n will return -n, because all +'s are removed.\n",
    "## Negating a negative value --n will return n, because the first - turns the second minus into a +.\n",
    "### Examples\n",
    "* negate([1, 2, 3, 4]) ➞ [-1, -2, -3, -4]\n",
    "\n",
    "* negate([-1, 2, -3, 4]) ➞ [1, -2, 3, -4]\n",
    "\n",
    "* negate([]) ➞ []"
   ]
  },
  {
   "cell_type": "code",
   "execution_count": null,
   "id": "2b9425c2",
   "metadata": {},
   "outputs": [],
   "source": [
    "numbers = [1, -2, 3, -4, 5]\n",
    "\n",
    "for i in range(len(numbers)):\n",
    "    if numbers[i] > 0:\n",
    "        numbers[i] = -numbers[i]\n",
    "    elif numbers[i] < 0:\n",
    "        numbers[i] = abs(numbers[i])  \n",
    "\n",
    "print(numbers)"
   ]
  },
  {
   "cell_type": "markdown",
   "id": "f0cdbb92",
   "metadata": {},
   "source": [
    "## 26.A number added with its additive inverse equals zero. Create a function that returns a list of additive inverses.\n",
    "\n",
    "### Examples\n",
    "* additive_inverse([5, -7, 8, 3]) ➞ [-5, 7, -8, -3]\n",
    "\n",
    "* additive_inverse([1, 1, 1, 1, 1]) ➞ [-1, -1, -1, -1, -1]\n",
    "\n",
    "* additive_inverse([-5, -25, 35]) ➞ [5, 25, -35]"
   ]
  },
  {
   "cell_type": "code",
   "execution_count": null,
   "id": "19944fed",
   "metadata": {},
   "outputs": [],
   "source": [
    "numbers = [1, 2, -3, 4, -5]\n",
    "\n",
    "additive_inverses = []\n",
    "\n",
    "for number in numbers:\n",
    "    additive_inverses.append(-number)\n",
    "\n",
    "print(additive_inverses)"
   ]
  },
  {
   "cell_type": "markdown",
   "id": "cfec57f1",
   "metadata": {},
   "source": [
    "## 27.Write a function that takes the last number of a consecutive list of numbers and returns the total of all numbers up to and including it.\n",
    "\n",
    "### Examples\n",
    "* add_up_to(3) ➞ 6\n",
    "#1 + 2 + 3 = 6\n",
    "\n",
    "* add_up_to(10) ➞ 55\n",
    "#1 + 2 + 3 + ... + 10 = 55\n",
    "\n",
    "* add_up_to(7) ➞ 28\n",
    "#1 + 2 + 3 + ... + 7 = 28"
   ]
  },
  {
   "cell_type": "code",
   "execution_count": null,
   "id": "4b148ec5",
   "metadata": {},
   "outputs": [],
   "source": [
    "last_number = 5\n",
    "total = 0\n",
    "for i in range(1, last_number + 1):\n",
    "    total += i\n",
    "print(total)"
   ]
  },
  {
   "cell_type": "markdown",
   "id": "ffa08f54",
   "metadata": {},
   "source": [
    "## 28.Create a function that takes two parameters (start, stop), and returns the sum of all even numbers in the range.\n",
    "\n",
    "###  Examples\n",
    "* sum_even_nums_in_range(10, 20) ➞ 90\n",
    "#10, 12, 14, 16, 18, 20\n",
    "\n",
    "* sum_even_nums_in_range(51, 150) ➞ 5050\n",
    "\n",
    "* sum_even_nums_in_range(63, 97) ➞ 1360"
   ]
  },
  {
   "cell_type": "code",
   "execution_count": 4,
   "id": "41c8f13a",
   "metadata": {},
   "outputs": [
    {
     "name": "stdout",
     "output_type": "stream",
     "text": [
      "30\n"
     ]
    }
   ],
   "source": [
    "start = 1\n",
    "stop = 10\n",
    "\n",
    "total = 0\n",
    "for num in range(start, stop + 1):\n",
    "    if num % 2 == 0:  \n",
    "        total += num\n",
    "print(total)"
   ]
  },
  {
   "cell_type": "markdown",
   "id": "3f3c4282",
   "metadata": {},
   "source": [
    "## 29.A palindrome is a word that is identical forward and backwards.\n",
    "\n",
    "## mom\n",
    "## racecar\n",
    "## kayak\n",
    "## Given a word, create a function that checks whether it is a palindrome.\n",
    "\n",
    "### Examples\n",
    "* is_palindrome(\"mom\") ➞ True\n",
    "\n",
    "* is_palindrome(\"scary\") ➞ False\n",
    "\n",
    "* is_palindrome(\"reviver\") ➞ True\n",
    "\n",
    "* is_palindrome(\"stressed\") ➞ False"
   ]
  },
  {
   "cell_type": "code",
   "execution_count": null,
   "id": "211c9f20",
   "metadata": {},
   "outputs": [],
   "source": [
    "word = \"racecar\"\n",
    "is_palindrome = True\n",
    "\n",
    "for i in range(len(word)):\n",
    "    if word[i] != word[len(word) - i - 1]:\n",
    "        is_palindrome = False\n",
    "        break\n",
    "if is_palindrome:\n",
    "    print(f\"{word} is a palindrome.\")\n",
    "else:\n",
    "    print(f\"{word} is not a palindrome.\")"
   ]
  },
  {
   "cell_type": "markdown",
   "id": "8058f501",
   "metadata": {},
   "source": [
    "## 30.Implement a function that returns a list containing all the consecutive numbers in ascendant order from the given value low up to the given value high (bounds included).\n",
    "\n",
    "### Examples\n",
    "* get_sequence(1, 5) ➞ [1, 2, 3, 4, 5]\n",
    "\n",
    "* get_sequence(98, 100) ➞ [98, 99, 100]\n",
    "\n",
    "* get_sequence(1000, 1000) ➞ [1000]\n"
   ]
  },
  {
   "cell_type": "code",
   "execution_count": null,
   "id": "49ad992c",
   "metadata": {},
   "outputs": [],
   "source": [
    "low = 3\n",
    "high = 8\n",
    "\n",
    "consecutive_numbers = []\n",
    "\n",
    "for num in range(low, high + 1):\n",
    "    consecutive_numbers.append(num)\n",
    "\n",
    "print(consecutive_numbers)"
   ]
  },
  {
   "cell_type": "markdown",
   "id": "2851a134",
   "metadata": {},
   "source": [
    "## 31.Create a function that finds the index of a given item.\n",
    "\n",
    "### Examples\n",
    "* search([1, 5, 3], 5) ➞ 1\n",
    "\n",
    "* search([9, 8, 3], 3) ➞ 2\n",
    "\n",
    "* search([1, 2, 3], 4) ➞ -1"
   ]
  },
  {
   "cell_type": "code",
   "execution_count": null,
   "id": "4a8ddc77",
   "metadata": {},
   "outputs": [],
   "source": [
    "input_list = [int(x) for x in input(\"Enter a list of numbers separated by spaces: \").split()]\n",
    "search_item = int(input(\"Enter the item to search: \"))\n",
    "\n",
    "index = -1\n",
    "for i in range(len(input_list)):\n",
    "    if input_list[i] == search_item:\n",
    "        index = i\n",
    "        break\n",
    "        \n",
    "if index != -1:\n",
    "    print(\"Item found at index:\", index)\n",
    "else:\n",
    "    print(\"Item not found in the list.\")\n"
   ]
  },
  {
   "cell_type": "markdown",
   "id": "d6ec96e2",
   "metadata": {},
   "source": [
    "## 32.Given a string of letters, how many capital letters are there?\n",
    "\n",
    "### Examples\n",
    "* capital_letters(\"fvLzpxmgXSDrobbgMVrc\") ➞ 6\n",
    "\n",
    "* capital_letters(\"JMZWCneOTFLWYwBWxyFw\") ➞ 14\n",
    "\n",
    "* capital_letters(\"mqeytbbjwqemcdrdsyvq\") ➞ 0"
   ]
  },
  {
   "cell_type": "code",
   "execution_count": null,
   "id": "e4e532e6",
   "metadata": {},
   "outputs": [],
   "source": [
    "input_string = input(\"Enter a string: \")\n",
    "\n",
    "capital_count = 0\n",
    "for char in input_string:\n",
    "    if char.isupper():\n",
    "        capital_count += 1\n",
    "\n",
    "print(\"Number of capital letters:\", capital_count)\n"
   ]
  },
  {
   "cell_type": "markdown",
   "id": "162a6955",
   "metadata": {},
   "source": [
    "## 33.Create a function that takes a number num and returns the first 10 multiples of num with 1 added to it, separated by commas.\n",
    "\n",
    "### Examples\n",
    "* n_tables_plus_one(7) ➞ \"8,15,22,29,36,43,50,57,64,71\"\n",
    "\n",
    "* n_tables_plus_one(1) ➞ \"2,3,4,5,6,7,8,9,10,11\"\n",
    "\n",
    "* n_tables_plus_one(3) ➞ \"4,7,10,13,16,19,22,25,28,31\""
   ]
  },
  {
   "cell_type": "code",
   "execution_count": null,
   "id": "6dd898ec",
   "metadata": {},
   "outputs": [],
   "source": [
    "num = int(input(\"Enter a number: \"))\n",
    "\n",
    "multiples = []\n",
    "for i in range(1, 11):\n",
    "    multiples.append(str(num * i + 1))\n",
    "\n",
    "result = \", \".join(multiples)\n",
    "print(result)\n"
   ]
  },
  {
   "cell_type": "markdown",
   "id": "83e97115",
   "metadata": {},
   "source": [
    "## 34.This is a reverse coding challenge. Normally you're given explicit directions with how to create a function. Here, you must generate your own function to satisfy the relationship between the inputs and outputs.\n",
    "\n",
    "Your task is to create a function that, when fed the inputs below, produces the sample outputs shown.\n",
    "\n",
    "### Examples\n",
    "* [5, 7, 8, 2, 1], 2 ➞ [1, 1, 0, 0, 1]\n",
    "\n",
    "* [9, 8, 16, 47], 4 ➞ [1, 0, 0, 3]\n",
    "\n",
    "* [17, 11, 99, 55, 23, 1], 5 ➞ [2, 1, 4, 0, 3, 1]\n",
    "\n",
    "* [6, 1], 7 ➞ [6, 1]\n",
    "\n",
    "* [3, 2, 9], 3 ➞ [0, 2, 0]\n",
    "\n",
    "* [48, 22, 0, 19, 33, 100], 10 ➞ [8, 2, 0, 9, 3, 0]"
   ]
  },
  {
   "cell_type": "code",
   "execution_count": null,
   "id": "09813d1e",
   "metadata": {},
   "outputs": [],
   "source": [
    "input_list = [17, 11, 99, 55, 23, 1]\n",
    "divisor = int(input(\"Enter the divisor: \"))\n",
    "\n",
    "remainders = []\n",
    "for num in input_list:\n",
    "    remainder = num % divisor\n",
    "    remainders.append(remainder)\n",
    "\n",
    "print(\"Remainders:\", remainders)"
   ]
  },
  {
   "cell_type": "markdown",
   "id": "8c9a4b99",
   "metadata": {},
   "source": [
    "## 35.The insurance guy calls again. Apparently, they were informed by your spouse that some items were not stolen at all and you failed to mention this detail to them. This is a fraud attempt! You freeze and mumble something unintelligible. Find out what you said.\n",
    "\n",
    "### Given a dictionary, return a string that concatenates all the values and adds the 2nd key at the end. Make sure you keep an empty space between them but not at the beginning or end of the string. Look at the examples for a clearer picture.\n",
    "\n",
    "#### Examples\n",
    "* { 1: \"Mommy\", 2: \"please\", 3: \"help\" } ➞ \"Mommy please help please\"\n",
    "\n",
    "* { 1: \"Me\", 2: \"innocent\", 3: \"is\" } ➞ \"Me innocent is innocent\"\n",
    "\n",
    "* { 1: \"Must\", 2: \"lawyer\", 3: \"call\" } ➞ \"Must lawyer call lawyer\""
   ]
  },
  {
   "cell_type": "code",
   "execution_count": null,
   "id": "bf009de8",
   "metadata": {},
   "outputs": [],
   "source": [
    "input_dict = {\"1\": \"Mommy\", \"2\": \"please\", \"3\": \"help\"} \n",
    "result = \"\"\n",
    "index = 1\n",
    "\n",
    "for key, value in input_dict.items():\n",
    "    result += value\n",
    "    if index == 2:\n",
    "        result += input_dict[\"2\"]\n",
    "    result += \" \"\n",
    "    index += 1\n",
    "\n",
    "print(result.strip())\n"
   ]
  },
  {
   "cell_type": "markdown",
   "id": "7ee019e7",
   "metadata": {},
   "source": [
    "## 36.Create a function that adds a string ending to each member in a list.\n",
    "\n",
    "## Examples\n",
    "* add_ending([\"clever\", \"meek\", \"hurried\", \"nice\"], \"ly\")\n",
    "➞ [\"cleverly\", \"meekly\", \"hurriedly\", \"nicely\"]\n",
    "\n",
    "* add_ending([\"new\", \"pander\", \"scoop\"], \"er\")\n",
    "➞ [\"newer\", \"panderer\", \"scooper\"]\n",
    "\n",
    "* add_ending([\"bend\", \"sharpen\", \"mean\"], \"ing\")\n",
    "➞ [\"bending\", \"sharpening\", \"meaning\"]"
   ]
  },
  {
   "cell_type": "code",
   "execution_count": null,
   "id": "d544ac9f",
   "metadata": {},
   "outputs": [],
   "source": [
    "input_list = [\"new\", \"pander\", \"scoop\"]\n",
    "ending = input(\"Enter the ending to add: \")\n",
    "result = []\n",
    "\n",
    "for item in input_list:\n",
    "    result.append(item + ending)\n",
    "\n",
    "print(result)"
   ]
  },
  {
   "cell_type": "markdown",
   "id": "bf65dca7",
   "metadata": {},
   "source": [
    "## 37.Create a function that takes a list of numbers and returns the sum of its cubes.\n",
    "\n",
    "### Examples\n",
    "* sum_of_cubes([1, 5, 9]) ➞ 855\n",
    "\n",
    "#Since 1^3 + 5^3 + 9^3 = 1 + 125 + 729 = 855\n",
    "\n",
    "* sum_of_cubes([3, 4, 5]) ➞ 216\n",
    "\n",
    "* sum_of_cubes([2]) ➞ 8\n",
    "\n",
    "* sum_of_cubes([]) ➞ 0"
   ]
  },
  {
   "cell_type": "code",
   "execution_count": null,
   "id": "539f88dd",
   "metadata": {},
   "outputs": [],
   "source": [
    "input_list = [int(x) for x in input(\"Enter a list of numbers separated by spaces: \").split()]\n",
    "\n",
    "sum_of_cubes = 0\n",
    "\n",
    "for num in input_list:\n",
    "    sum_of_cubes += num ** 3\n",
    "\n",
    "print(\"Sum of cubes:\", sum_of_cubes)"
   ]
  },
  {
   "cell_type": "markdown",
   "id": "87f7e5d3",
   "metadata": {},
   "source": [
    "## 38.Create a function that returns the minimum number of elements removed to make the sum of all elements in a list even.\n",
    "\n",
    "### Examples\n",
    "* minimum_removals([1, 2, 3, 4, 5]) ➞ 1\n",
    "\n",
    "* minimum_removals([5, 7, 9, 11]) ➞ 0\n",
    "\n",
    "* minimum_removals([5, 7, 9, 12]) ➞ 1"
   ]
  },
  {
   "cell_type": "code",
   "execution_count": null,
   "id": "c096c2d1",
   "metadata": {},
   "outputs": [],
   "source": [
    "input_list = [int(x) for x in input(\"Enter a list of numbers separated by spaces: \").split()]\n",
    "sum_of_elements = sum(input_list)\n",
    "count_odd = 0\n",
    "count_even = 0\n",
    "\n",
    "for num in input_list:\n",
    "    if num % 2 == 0:\n",
    "        count_even += 1\n",
    "    else:\n",
    "        count_odd += 1\n",
    "\n",
    "min_elements_to_remove = min(count_odd, count_even)\n",
    "\n",
    "print(\"Minimum elements to remove:\", min_elements_to_remove)\n"
   ]
  },
  {
   "cell_type": "markdown",
   "id": "ddd3fc37",
   "metadata": {},
   "source": [
    "## 39.Create a function that takes a number as an argument and returns a list of numbers counting down from this number to zero.\n",
    "\n",
    "### Examples\n",
    "* countdown(5) ➞ [5, 4, 3, 2, 1, 0]\n",
    "\n",
    "*  countdown(1) ➞ [1, 0]\n",
    "\n",
    "* countdown(0) ➞ [0]"
   ]
  },
  {
   "cell_type": "code",
   "execution_count": null,
   "id": "5c096496",
   "metadata": {},
   "outputs": [],
   "source": [
    "num = int(input(\"Enter a number: \"))\n",
    "count_down_list = []\n",
    "\n",
    "for i in range(num, -1, -1):\n",
    "    count_down_list.append(i)\n",
    "\n",
    "print(count_down_list)"
   ]
  },
  {
   "cell_type": "markdown",
   "id": "8c15a273",
   "metadata": {},
   "source": [
    "## 40.Create a function that takes a string road and returns the car that's in first place. The road will be made of \"=\", and cars will be represented by letters in the alphabet.\n",
    "\n",
    "### Examples\n",
    "* first_place(\"====b===O===e===U=A==\") ➞ \"A\"\n",
    "\n",
    "* first_place(\"e==B=Fe\") ➞ \"e\"\n",
    "\n",
    "* first_place(\"proeNeoOJGnfl\") ➞ \"l\""
   ]
  },
  {
   "cell_type": "code",
   "execution_count": null,
   "id": "23728ba4",
   "metadata": {},
   "outputs": [],
   "source": [
    "road = input(\"Enter the road string: \")\n",
    "first_car = \"\"\n",
    "\n",
    "for char in road:\n",
    "    if char.isalpha():\n",
    "        first_car = char\n",
    "        break\n",
    "\n",
    "if first_car:\n",
    "    print(\"Car in first place:\", first_car)\n",
    "else:\n",
    "    print(\"No cars on the road.\")\n"
   ]
  },
  {
   "cell_type": "markdown",
   "id": "ded33d73",
   "metadata": {},
   "source": [
    "## 41.When resistors are connected together in series, the same current passes through each resistor in the chain and the total resistance, RT, of the circuit must be equal to the sum of all the individual resistors added together. That is:\n",
    "\n",
    "###  RT = R1 + R2 + R3 ...Create a function that takes an array of values resistance that are connected in series, and calculates the total resistance of the circuit in ohms. The ohm is the standard unit of electrical resistance in the International System of Units ( SI ).\n",
    "\n",
    "### Examples\n",
    "* series_resistance([1, 5, 6, 3]) ➞ \"15 ohms\"\n",
    "\n",
    "* series_resistance([16, 3.5, 6]) ➞ \"25.5 ohms\"\n",
    "\n",
    "* series_resistance([0.5, 0.5]) ➞ \"1.0 ohm\""
   ]
  },
  {
   "cell_type": "code",
   "execution_count": null,
   "id": "8a4c7f3b",
   "metadata": {},
   "outputs": [],
   "source": [
    "resistances = [16, 3.5, 6]\n",
    "\n",
    "total_resistance = 0\n",
    "\n",
    "for resistance in resistances:\n",
    "    total_resistance += resistance\n",
    "\n",
    "print(f\"{total_resistance:.1f} ohms\")"
   ]
  },
  {
   "cell_type": "markdown",
   "id": "7a79cb3f",
   "metadata": {},
   "source": [
    "## 42.Create a function which concatenates the number 7 to the end of every chord in a list. Ignore all chords which already end with 7.\n",
    "\n",
    "### Examples\n",
    "* jazzify([\"G\", \"F\", \"C\"]) ➞ [\"G7\", \"F7\", \"C7\"]\n",
    "\n",
    "* jazzify([\"Dm\", \"G\", \"E\", \"A\"]) ➞ [\"Dm7\", \"G7\", \"E7\", \"A7\"]\n",
    "\n",
    "* jazzify([\"F7\", \"E7\", \"A7\", \"Ab7\", \"Gm7\", \"C7\"]) ➞ [\"F7\", \"E7\", \"A7\", \"Ab7\", \"Gm7\", \"C7\"]\n",
    "\n",
    "* jazzify([]) ➞ []"
   ]
  },
  {
   "cell_type": "code",
   "execution_count": null,
   "id": "6f81f010",
   "metadata": {},
   "outputs": [],
   "source": [
    "chords = [\"Dm\", \"G\", \"E\", \"A\"]\n",
    "result_chords = []\n",
    "\n",
    "for chord in chords:\n",
    "    if not chord.endswith(\"7\"):\n",
    "        chord += \"7\"\n",
    "    result_chords.append(chord)\n",
    "\n",
    "print(result_chords)"
   ]
  },
  {
   "cell_type": "markdown",
   "id": "828b4cfd",
   "metadata": {},
   "source": [
    "## 43.Create a function that returns a base-2 (binary) representation of a base-10 (decimal) string number. To convert is simple: ((2) means base-2 and (10) means base-10) 010101001(2) = 1 + 8 + 32 + 128.\n",
    "\n",
    "### Going from right to left, the value of the most right bit is 1, now from that every bit to the left will be x2 the value, value of an 8 bit binary numbers are (256, 128, 64, 32, 16, 8, 4, 2, 1).\n",
    "\n",
    "### Examples\n",
    "* binary(1) ➞ \"1\"\n",
    "#1*1 = 1\n",
    "\n",
    "* binary(5) ➞ \"101\"\n",
    "#1*1 + 1*4 = 5\n",
    "\n",
    "* binary(10) ➞ \"1010\"\n",
    "#1*2 + 1*8 = 10"
   ]
  },
  {
   "cell_type": "code",
   "execution_count": null,
   "id": "8e232833",
   "metadata": {},
   "outputs": [],
   "source": [
    "decimal_number = int(input(\"Enter a base-10 decimal number: \"))\n",
    "binary_representation = \"\"\n",
    "\n",
    "for _ in range(decimal_number.bit_length()):\n",
    "    remainder = decimal_number % 2\n",
    "    binary_representation = str(remainder) + binary_representation\n",
    "    decimal_number = decimal_number // 2\n",
    "\n",
    "print(\"Binary representation:\", binary_representation)"
   ]
  },
  {
   "cell_type": "markdown",
   "id": "b46b4e5b",
   "metadata": {},
   "source": [
    "## 44.Create a function that takes a string and returns the number (count) of vowels contained within it.\n",
    "\n",
    "### Examples\n",
    "* count_vowels(\"Celebration\") ➞ 5\n",
    "\n",
    "* count_vowels(\"Palm\") ➞ 1\n",
    "\n",
    "* count_vowels(\"Prediction\") ➞ 4"
   ]
  },
  {
   "cell_type": "code",
   "execution_count": null,
   "id": "7d18617c",
   "metadata": {},
   "outputs": [],
   "source": [
    "input_string = input(\"Enter a string: \")\n",
    "vowel_count = 0\n",
    "\n",
    "for char in input_string:\n",
    "    if char.lower() in \"aeiou\":\n",
    "        vowel_count += 1\n",
    "\n",
    "print(\"Number of vowels:\", vowel_count)"
   ]
  },
  {
   "cell_type": "markdown",
   "id": "4d23873d",
   "metadata": {},
   "source": [
    "## 45.Create a function that takes a list and finds the integer which appears an odd number of times.\n",
    "\n",
    "### Examples\n",
    "* find_odd([1, 1, 2, -2, 5, 2, 4, 4, -1, -2, 5]) ➞ -1\n",
    "\n",
    "* find_odd([20, 1, 1, 2, 2, 3, 3, 5, 5, 4, 20, 4, 5]) ➞ 5\n",
    "\n",
    "* find_odd([10]) ➞ 10\n"
   ]
  },
  {
   "cell_type": "code",
   "execution_count": null,
   "id": "b8ff9cc9",
   "metadata": {},
   "outputs": [],
   "source": [
    "num_list = [int(x) for x in input(\"Enter a list of integers separated by spaces: \").split()]\n",
    "odd_appearing_integer = None\n",
    "\n",
    "for num in num_list:\n",
    "    if num_list.count(num) % 2 == 1:\n",
    "        odd_appearing_integer = num\n",
    "        break\n",
    "\n",
    "print(\"Integer that appears an odd number of times:\", odd_appearing_integer)"
   ]
  },
  {
   "cell_type": "markdown",
   "id": "413bf00c",
   "metadata": {},
   "source": [
    "## 46.Hamming distance is the number of characters that differ between two strings.\n",
    "\n",
    "### To illustrate:     String1: \"abcbba\"    ,String2: \"abcbda\"\n",
    "### Hamming Distance: 1 - \"b\" vs. \"d\" is the only difference.Create a function that computes the hamming distance between two strings.\n",
    "\n",
    "### Examples\n",
    "* hamming_distance(\"abcde\", \"bcdef\") ➞ 5\n",
    "\n",
    "* hamming_distance(\"abcde\", \"abcde\") ➞ 0\n",
    "\n",
    "* hamming_distance(\"strong\", \"strung\") ➞ 1"
   ]
  },
  {
   "cell_type": "code",
   "execution_count": null,
   "id": "b023ef65",
   "metadata": {},
   "outputs": [],
   "source": [
    "string1 = input(\"Enter the first string: \")\n",
    "string2 = input(\"Enter the second string: \")\n",
    "hamming_distance = 0\n",
    "\n",
    "for i in range(len(string1)):\n",
    "    if string1[i] != string2[i]:\n",
    "        hamming_distance += 1\n",
    "\n",
    "print(\"Hamming Distance:\", hamming_distance)"
   ]
  },
  {
   "cell_type": "markdown",
   "id": "3bd2c73a",
   "metadata": {},
   "source": [
    "## 47.Create a function that takes a list of non-negative integers and strings and return a new list without the strings.\n",
    "\n",
    "### Examples\n",
    "* filter_list([1, 2, \"a\", \"b\"]) ➞ [1, 2]\n",
    "\n",
    "* filter_list([1, \"a\", \"b\", 0, 15]) ➞ [1, 0, 15]\n",
    "\n",
    "* filter_list([1, 2, \"aasf\", \"1\", \"123\", 123]) ➞ [1, 2, 123]"
   ]
  },
  {
   "cell_type": "code",
   "execution_count": null,
   "id": "b13f7de3",
   "metadata": {},
   "outputs": [],
   "source": [
    "input_list = input(\"Enter a list of non-negative integers and strings separated by commas: \").split(\",\")\n",
    "filtered_list = []\n",
    "\n",
    "for item in input_list:\n",
    "    if isinstance(item, int) and item >= 0:\n",
    "        filtered_list.append(item)\n",
    "\n",
    "print(\"Filtered list:\", filtered_list)\n"
   ]
  },
  {
   "cell_type": "markdown",
   "id": "067d43c2",
   "metadata": {},
   "source": [
    "## 48.Create a function that takes a list of strings and integers, and filters out the list so that it returns a list of integers only.\n",
    "\n",
    "### Examples\n",
    "* filter_list([1, 2, 3, \"a\", \"b\", 4]) ➞ [1, 2, 3, 4]\n",
    "\n",
    "* filter_list([\"A\", 0, \"Edabit\", 1729, \"Python\", \"1729\"]) ➞ [0, 1729]\n",
    "\n",
    "* filter_list([\"Nothing\", \"here\"]) ➞ []\n"
   ]
  },
  {
   "cell_type": "code",
   "execution_count": null,
   "id": "d2608703",
   "metadata": {},
   "outputs": [],
   "source": [
    "input_list = eval(input(\"Enter a list of strings and integers: \"))\n",
    "filtered_list = []\n",
    "\n",
    "for item in input_list:\n",
    "    if isinstance(item, int):\n",
    "        filtered_list.append(item)\n",
    "\n",
    "print(\"Filtered list of integers:\", filtered_list)\n"
   ]
  },
  {
   "cell_type": "markdown",
   "id": "ab27f05a",
   "metadata": {},
   "source": [
    "## 49.Given a list of numbers, create a function which returns the list but with each element's index in the list added to itself. This means you add 0 to the number at index 0, add 1 to the number at index 1, etc...\n",
    "\n",
    "### Examples\n",
    "add_indexes([0, 0, 0, 0, 0]) ➞ [0, 1, 2, 3, 4]\n",
    "\n",
    "add_indexes([1, 2, 3, 4, 5]) ➞ [1, 3, 5, 7, 9]\n",
    "\n",
    "add_indexes([5, 4, 3, 2, 1]) ➞ [5, 5, 5, 5, 5]"
   ]
  },
  {
   "cell_type": "code",
   "execution_count": null,
   "id": "0bb73127",
   "metadata": {},
   "outputs": [],
   "source": [
    "input_list = eval(input(\"Enter a list of numbers: \"))\n",
    "result_list = []\n",
    "\n",
    "for index, value in enumerate(input_list):\n",
    "    result_list.append(value + index)\n",
    "\n",
    "print(\"Resulting list with added indexes:\", result_list)\n"
   ]
  },
  {
   "cell_type": "markdown",
   "id": "d458bd7a",
   "metadata": {},
   "source": [
    "## 50.This Triangular Number Sequence is generated from a pattern of dots that form a triangle. The first 5 numbers of the sequence, or dots, are:1, 3, 6, 10, 15      This means that the first triangle has just one dot, the second one has three dots, the third one has 6 dots and so on.          Write a function that returns the number of dots when given its corresponding triangle number of the sequence.\n",
    "\n",
    "### Examples\n",
    "* triangle(1) ➞ 1\n",
    "\n",
    "* triangle(6) ➞ 21\n",
    "\n",
    "* triangle(215) ➞ 23220\n"
   ]
  },
  {
   "cell_type": "code",
   "execution_count": 3,
   "id": "8894ca38",
   "metadata": {},
   "outputs": [
    {
     "name": "stdout",
     "output_type": "stream",
     "text": [
      "Enter the triangle number: 5\n",
      "Number of dots: 15\n"
     ]
    }
   ],
   "source": [
    "n = int(input(\"Enter the triangle number: \"))\n",
    "num_dots = 0\n",
    "\n",
    "for i in range(1, n + 1):\n",
    "    num_dots += i\n",
    "\n",
    "print(\"Number of dots:\", num_dots)\n"
   ]
  },
  {
   "cell_type": "code",
   "execution_count": null,
   "id": "a339c0df",
   "metadata": {},
   "outputs": [],
   "source": []
  }
 ],
 "metadata": {
  "kernelspec": {
   "display_name": "Python 3 (ipykernel)",
   "language": "python",
   "name": "python3"
  },
  "language_info": {
   "codemirror_mode": {
    "name": "ipython",
    "version": 3
   },
   "file_extension": ".py",
   "mimetype": "text/x-python",
   "name": "python",
   "nbconvert_exporter": "python",
   "pygments_lexer": "ipython3",
   "version": "3.11.3"
  }
 },
 "nbformat": 4,
 "nbformat_minor": 5
}
