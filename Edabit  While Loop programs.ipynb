{
 "cells": [
  {
   "cell_type": "markdown",
   "id": "cdb0c652",
   "metadata": {},
   "source": [
    "## While loop\n"
   ]
  },
  {
   "cell_type": "markdown",
   "id": "2ef1eeb4",
   "metadata": {},
   "source": [
    "## 1.Create a function that takes a base number and an exponent number and returns the calculation.\n",
    "\n",
    "### Examples\n",
    "* calculate_exponent(5, 5) ➞ 3125\n",
    "\n",
    "* calculate_exponent(10, 10) ➞ 10000000000\n",
    "\n",
    "* calculate_exponent(3, 3) ➞ 27"
   ]
  },
  {
   "cell_type": "code",
   "execution_count": null,
   "id": "cedff514",
   "metadata": {},
   "outputs": [],
   "source": [
    "base , exp = int(input()), int(input())\n",
    "result =1\n",
    "while exp != 0:\n",
    "    result*=base\n",
    "    exp-=1\n",
    "    \n",
    "print(result) "
   ]
  },
  {
   "cell_type": "markdown",
   "id": "197ae228",
   "metadata": {},
   "source": [
    "#2 Create a function that takes a list of n numbers. Return the  n largest number in the list"
   ]
  },
  {
   "cell_type": "code",
   "execution_count": null,
   "id": "e02cde15",
   "metadata": {},
   "outputs": [],
   "source": [
    "length=int(input('enter the n value: '))\n",
    "numbers = []\n",
    "\n",
    "index=0 \n",
    "while index < length:\n",
    "    a = int(input('enter the number: '))\n",
    "    numbers.append(a)\n",
    "    index +=1\n",
    "largest = numbers[0]\n",
    "index=0\n",
    "while index < length:\n",
    "    if numbers[index] > largest:\n",
    "        largest = numbers[index]\n",
    "    index +=1\n",
    "        \n",
    "print(\"largest  among the n numbers:  \", largest)    \n",
    "\n",
    "    \n"
   ]
  },
  {
   "cell_type": "markdown",
   "id": "17502bd2",
   "metadata": {},
   "source": [
    "\n",
    "\n",
    "# 2 Create a function that takes a list of n numbers and returns the smallest number in the list\n",
    "\n"
   ]
  },
  {
   "cell_type": "code",
   "execution_count": 2,
   "id": "ac932607",
   "metadata": {},
   "outputs": [
    {
     "name": "stdout",
     "output_type": "stream",
     "text": [
      "enter the n value: 3\n",
      "enter the number: 1\n",
      "enter the number: 2\n",
      "enter the number: 3\n",
      "smallest among the n numbers:  1\n"
     ]
    }
   ],
   "source": [
    " length=int(input('enter the n value: '))\n",
    "numbers = []\n",
    "index=0\n",
    "while index < length:\n",
    "    b = int(input('enter the number: '))\n",
    "    numbers.append(b)\n",
    "    index += 1\n",
    "smallest = numbers[0]\n",
    "#index[0]\n",
    "while index < length:\n",
    "    if numbers[index] < smallest:\n",
    "        smallest = numbers[index]\n",
    "    index += 1\n",
    "\n",
    "print('smallest among the n numbers: ',smallest)\n",
    "    \n",
    "    \n",
    "     \n",
    "\n",
    "        "
   ]
  },
  {
   "cell_type": "markdown",
   "id": "5c0a3d20",
   "metadata": {},
   "source": [
    "### "
   ]
  },
  {
   "cell_type": "code",
   "execution_count": null,
   "id": "c59f27ed",
   "metadata": {},
   "outputs": [],
   "source": [
    "#4 Create a function that takes a list and returns the difference between the biggest and smallest numbers.\n",
    "difference_max_min([10, 4, 1, 4, -10, -50, 32, 21]) ➞ 82\n",
    "# Smallest number is -50, biggest is 32.\n"
   ]
  },
  {
   "cell_type": "code",
   "execution_count": 3,
   "id": "3e4d3d71",
   "metadata": {},
   "outputs": [
    {
     "name": "stdout",
     "output_type": "stream",
     "text": [
      "given numbers: 1,2,3,4,5\n"
     ]
    },
    {
     "ename": "ValueError",
     "evalue": "invalid literal for int() with base 10: '1,2,3,4,5'",
     "output_type": "error",
     "traceback": [
      "\u001b[1;31m---------------------------------------------------------------------------\u001b[0m",
      "\u001b[1;31mValueError\u001b[0m                                Traceback (most recent call last)",
      "Cell \u001b[1;32mIn[3], line 1\u001b[0m\n\u001b[1;32m----> 1\u001b[0m a\u001b[38;5;241m=\u001b[39m\u001b[38;5;28mint\u001b[39m(\u001b[38;5;28minput\u001b[39m(\u001b[38;5;124m'\u001b[39m\u001b[38;5;124mgiven numbers: \u001b[39m\u001b[38;5;124m'\u001b[39m))\n\u001b[0;32m      2\u001b[0m numbers\u001b[38;5;241m=\u001b[39m[]\n\u001b[0;32m      3\u001b[0m i \u001b[38;5;241m=\u001b[39m \u001b[38;5;241m0\u001b[39m\n",
      "\u001b[1;31mValueError\u001b[0m: invalid literal for int() with base 10: '1,2,3,4,5'"
     ]
    }
   ],
   "source": [
    "a=int(input('given numbers: '))\n",
    "numbers=[]\n",
    "i = 0\n",
    "while i < len(numbers):\n",
    "        if numbers[i] > max_num:\n",
    "            max_num = numbers[i]\n",
    "        if numbers[i] < min_num:\n",
    "            min_num = numbers[i]\n",
    "        i += 1\n",
    "        \n",
    "print('max_num-min_num')        \n"
   ]
  },
  {
   "cell_type": "markdown",
   "id": "84b71e71",
   "metadata": {},
   "source": [
    "#5 Create a function that takes a list and returns the sum of all numbers in the list"
   ]
  },
  {
   "cell_type": "code",
   "execution_count": 5,
   "id": "7941e003",
   "metadata": {},
   "outputs": [
    {
     "name": "stdout",
     "output_type": "stream",
     "text": [
      "list of numbers1,2,3,4,5\n"
     ]
    },
    {
     "ename": "ValueError",
     "evalue": "invalid literal for int() with base 10: '1,2,3,4,5'",
     "output_type": "error",
     "traceback": [
      "\u001b[1;31m---------------------------------------------------------------------------\u001b[0m",
      "\u001b[1;31mValueError\u001b[0m                                Traceback (most recent call last)",
      "Cell \u001b[1;32mIn[5], line 1\u001b[0m\n\u001b[1;32m----> 1\u001b[0m a\u001b[38;5;241m=\u001b[39m\u001b[38;5;28mint\u001b[39m(\u001b[38;5;28minput\u001b[39m(\u001b[38;5;124m'\u001b[39m\u001b[38;5;124mlist of numbers\u001b[39m\u001b[38;5;124m'\u001b[39m))\n\u001b[0;32m      2\u001b[0m total\u001b[38;5;241m=\u001b[39m\u001b[38;5;241m0\u001b[39m\n\u001b[0;32m      3\u001b[0m index\u001b[38;5;241m=\u001b[39m\u001b[38;5;241m0\u001b[39m\n",
      "\u001b[1;31mValueError\u001b[0m: invalid literal for int() with base 10: '1,2,3,4,5'"
     ]
    }
   ],
   "source": [
    "a=int(input('list of numbers'))\n",
    "total=0\n",
    "index=0\n",
    "while index < total:\n",
    "    total+= numbers[index]\n",
    "    index+=1\n",
    "\n",
    "print('sum of the numbers in a list: ')"
   ]
  },
  {
   "cell_type": "code",
   "execution_count": null,
   "id": "2024df37",
   "metadata": {},
   "outputs": [],
   "source": [
    "#6 Create a function that takes a number (from 1 - 60) and returns a corresponding string of hyphens."
   ]
  },
  {
   "cell_type": "code",
   "execution_count": null,
   "id": "d84c3ba5",
   "metadata": {},
   "outputs": [],
   "source": [
    "s=(int(input('starting number: ')))\n",
    "#e=(int(input('ending number: ')))\n",
    "e = ''\n",
    "i = 0\n",
    "while i<s:\n",
    "    e+='_'\n",
    "    c+=1\n",
    "    print(e)"
   ]
  },
  {
   "cell_type": "code",
   "execution_count": null,
   "id": "7a0755f7",
   "metadata": {},
   "outputs": [],
   "source": [
    "#7 Write a function that takes an integer and returns a string with the given number of \"a\"s in Edabit."
   ]
  },
  {
   "cell_type": "markdown",
   "id": "27ca71ad",
   "metadata": {},
   "source": [
    "num_a = int(input())\n",
    "def edabit_string(numb_a):\n",
    "    result = \"E\"\n",
    "    i = 0\n",
    "    while i < num_a:\n",
    "        result += \"a\"\n",
    "        i += 1\n",
    "    result += \"bit\"\n",
    "    return result\n",
    "print(edabit_string(5)) "
   ]
  },
  {
   "cell_type": "markdown",
   "id": "ee0044f9",
   "metadata": {},
   "source": [
    "#8 Mubashir created an infinite loop! Help him by fixing the code in the code tab to pass this challenge. Look at the examples below to get an idea of what the function should do."
   ]
  },
  {
   "cell_type": "code",
   "execution_count": null,
   "id": "a2458a0e",
   "metadata": {},
   "outputs": [],
   "source": [
    "a=int(input('list of numbers: '))\n",
    "i=0\n",
    "while i<a:\n",
    "    if i in range(0,5):\n",
    "        print(a,end=' ,')\n"
   ]
  },
  {
   "cell_type": "code",
   "execution_count": null,
   "id": "829b5d87",
   "metadata": {},
   "outputs": [],
   "source": [
    "## 9.Create a function that returns True if all parameters are truthy, and False otherwise."
   ]
  },
  {
   "cell_type": "code",
   "execution_count": null,
   "id": "36b3036b",
   "metadata": {},
   "outputs": [],
   "source": [
    "result = True\n",
    "index = 0\n",
    "args = (5,4,3,2,1,0) \n",
    "\n",
    "while index < len(args):\n",
    "    if not args[index]:\n",
    "        result = False\n",
    "        break\n",
    "    index += 1\n",
    "\n",
    "print(result)\n"
   ]
  },
  {
   "cell_type": "code",
   "execution_count": null,
   "id": "57421ffd",
   "metadata": {},
   "outputs": [],
   "source": [
    "## 10.Create a function that returns the last value of the last item in a list or string."
   ]
  },
  {
   "cell_type": "code",
   "execution_count": null,
   "id": "a29cc249",
   "metadata": {},
   "outputs": [],
   "source": [
    "input_data_1= \"ramesh is bad boy\"\n",
    "if input_data_1:\n",
    "    last_item = input_data_1[-1]\n",
    "    while type(last_item) == list or type(last_item) == str:\n",
    "        last_item = last_item[-1]\n",
    "    print(\"Last value of the last item:\", last_item)\n",
    "else:\n",
    "    print(\"None\")"
   ]
  },
  {
   "cell_type": "code",
   "execution_count": null,
   "id": "9ff6daf5",
   "metadata": {},
   "outputs": [],
   "source": [
    "## 11.Write a function that turns a comma-delimited list into an array of strings."
   ]
  },
  {
   "cell_type": "code",
   "execution_count": null,
   "id": "1ee443f0",
   "metadata": {},
   "outputs": [],
   "source": [
    "input_string = input(\"Enter a comma-delimited list: \")\n",
    "string_array = []\n",
    "current_string = \"\"\n",
    "index = 0\n",
    "\n",
    "while index < len(input_string):\n",
    "    if input_string[index] == ',':\n",
    "        string_array.append(current_string)\n",
    "        current_string = \"\"\n",
    "    else:\n",
    "        current_string += input_string[index]\n",
    "    index += 1\n",
    "\n",
    "string_array.append(current_string)\n",
    "print(\"Array of strings:\", string_array)"
   ]
  },
  {
   "cell_type": "markdown",
   "id": "d5ef9349",
   "metadata": {},
   "source": [
    "## 12.Scientists have discovered that in four decades, the world will EXPLODE! It will also take three decades to make a spaceship to travel to a new planet that can hold the entire world population."
   ]
  },
  {
   "cell_type": "code",
   "execution_count": null,
   "id": "14c9ca3d",
   "metadata": {},
   "outputs": [],
   "source": [
    "current_population = int(input(\"Enter the current world population: \"))\n",
    "births_per_month = int(input(\"Enter the number of births per month: \"))\n",
    "years_in_future = 30\n",
    "months_in_three_decades = years_in_future * 12\n",
    "future_population = current_population\n",
    "months_passed = 0\n",
    "\n",
    "while months_passed < months_in_three_decades:\n",
    "    future_population += births_per_month\n",
    "    months_passed += 1\n",
    "\n",
    "print(\"Number of people in three decades:\", future_population)"
   ]
  },
  {
   "cell_type": "code",
   "execution_count": null,
   "id": "72f61159",
   "metadata": {},
   "outputs": [],
   "source": [
    "## 13.Create a function that returns a number, based on the string provided. Here is a list of all digits:"
   ]
  },
  {
   "cell_type": "code",
   "execution_count": null,
   "id": "f9a743b6",
   "metadata": {},
   "outputs": [],
   "source": [
    "number_words = [\"zero\", \"one\", \"two\", \"three\", \"four\", \"five\", \"six\", \"seven\", \"eight\", \"nine\"]\n",
    "input_string = input(\"Enter a number word: \")\n",
    "num = -1\n",
    "index = 0\n",
    "while index < len(number_words):\n",
    "    if input_string == number_words[index]:\n",
    "        num = index\n",
    "        break\n",
    "    index += 1\n",
    "if num != -1:\n",
    "    print(\"The corresponding numerical value is:\", num)"
   ]
  },
  {
   "cell_type": "markdown",
   "id": "6fa56e68",
   "metadata": {},
   "source": [
    "## 14.Create a function that takes two strings as arguments and returns the number of times the first string (the single character) is found in the second string.\n"
   ]
  },
  {
   "cell_type": "code",
   "execution_count": null,
   "id": "442f647d",
   "metadata": {},
   "outputs": [],
   "source": [
    "char_input = input(\"Enter a single character: \")\n",
    "string_input = input(\"Enter a string: \")\n",
    "count = 0\n",
    "index = 0\n",
    "\n",
    "while index < len(string_input):\n",
    "    if string_input[index] == char_input:\n",
    "        count += 1\n",
    "    index += 1\n",
    "\n",
    "print(f\"The character '{char_input}' appears {count} times in the string.\")"
   ]
  },
  {
   "cell_type": "code",
   "execution_count": null,
   "id": "87c4ed15",
   "metadata": {},
   "outputs": [],
   "source": [
    "## 15.Create a function that takes a list and a string as arguments and returns the index of the string.\n"
   ]
  },
  {
   "cell_type": "code",
   "execution_count": null,
   "id": "a5e70a7f",
   "metadata": {},
   "outputs": [],
   "source": [
    "input_list = [\"apple\", \"banana\", \"cherry\", \"date\", \"apple\"]\n",
    "input_string = input(\"Enter a string: \")\n",
    "index = 0\n",
    "found_index = -1\n",
    "\n",
    "while index < len(input_list):\n",
    "    if input_list[index] == input_string:\n",
    "        found_index = index\n",
    "        break\n",
    "    index += 1\n",
    "\n",
    "if found_index != -1:\n",
    "    print(f\"The string '{input_string}' is found at index {found_index}.\")\n",
    "else:\n",
    "    print(f\"The string '{input_string}' is not found in the list.\")\n"
   ]
  },
  {
   "cell_type": "code",
   "execution_count": null,
   "id": "9a61cdb4",
   "metadata": {},
   "outputs": [],
   "source": [
    "## 16.Create a function which returns the length of a string, without using len()."
   ]
  },
  {
   "cell_type": "code",
   "execution_count": null,
   "id": "8ecd1c5c",
   "metadata": {},
   "outputs": [],
   "source": [
    "input_string = input(\"Enter a string: \")\n",
    "count = 0\n",
    "index = 0\n",
    "while index < len(input_string):\n",
    "    count += 1\n",
    "    index += 1\n",
    "\n",
    "print(\"Length of the string:\", count)"
   ]
  },
  {
   "cell_type": "code",
   "execution_count": null,
   "id": "6a93bf8e",
   "metadata": {},
   "outputs": [],
   "source": [
    "## 17.Create a function that takes a 2D list lst and returns the sum of the minimum value in each row.\n"
   ]
  },
  {
   "cell_type": "code",
   "execution_count": null,
   "id": "9c92e461",
   "metadata": {},
   "outputs": [],
   "source": [
    "input_list = [[3, 5, 2, 8],[7, 1, 9, 4],[6, 1, 2, 11]]\n",
    "total_sum = 0\n",
    "row_index = 0\n",
    "\n",
    "while row_index < len(input_list):\n",
    "    min_value = input_list[row_index][0]\n",
    "    col_index = 1\n",
    "    while col_index < len(input_list[row_index]):\n",
    "        if input_list[row_index][col_index] < min_value:\n",
    "            min_value = input_list[row_index][col_index]\n",
    "        col_index += 1\n",
    "    total_sum += min_value\n",
    "    row_index += 1\n",
    "\n",
    "print(\"Sum of minimum values in each row:\", total_sum)"
   ]
  },
  {
   "cell_type": "code",
   "execution_count": null,
   "id": "2d25ae01",
   "metadata": {},
   "outputs": [],
   "source": [
    "## 18.Given a letter and a list of words, return whether the letter does not appear in any of the words.\n"
   ]
  },
  {
   "cell_type": "code",
   "execution_count": null,
   "id": "8144169a",
   "metadata": {},
   "outputs": [],
   "source": [
    "letter = input(\"Enter a letter: \")\n",
    "word_list = [\"apple\", \"banana\", \"cherry\", \"date\"]\n",
    "does_not_appear = True\n",
    "word_index = 0\n",
    "\n",
    "while word_index < len(word_list):\n",
    "    letter_appeared = False\n",
    "    char_index = 0\n",
    "\n",
    "    while char_index < len(word_list[word_index]):\n",
    "        if word_list[word_index][char_index] == letter:\n",
    "            letter_appeared = True\n",
    "            break\n",
    "        char_index += 1\n",
    "\n",
    "    if letter_appeared:\n",
    "        does_not_appear = False\n",
    "        break\n",
    "\n",
    "    word_index += 1\n",
    "\n",
    "if does_not_appear:\n",
    "    print(f\"The letter '{letter}' does not appear in any of the words.\")\n",
    "else:\n",
    "    print(f\"The letter '{letter}' appears in at least one of the words.\")\n"
   ]
  },
  {
   "cell_type": "markdown",
   "id": "b0f5736e",
   "metadata": {},
   "source": [
    "## 19.Create a function that finds each factor of a given number n. Your solution should return a list of the number(s) that meet this criteria.\n"
   ]
  },
  {
   "cell_type": "code",
   "execution_count": null,
   "id": "f92db4ec",
   "metadata": {},
   "outputs": [],
   "source": [
    "num = int(input(\"Enter a number: \"))\n",
    "factors = []\n",
    "potential_factor = 1\n",
    "\n",
    "while potential_factor <= num:\n",
    "    if num % potential_factor == 0:\n",
    "        factors.append(potential_factor)\n",
    "    potential_factor += 1\n",
    "\n",
    "print(\"Factors:\", factors)"
   ]
  },
  {
   "cell_type": "markdown",
   "id": "c69d342b",
   "metadata": {},
   "source": [
    "## 20.Given a string, create a function to reverse the case. All lower-cased letters should be upper-cased, and vice versa.\n"
   ]
  },
  {
   "cell_type": "code",
   "execution_count": null,
   "id": "d4ec8f86",
   "metadata": {},
   "outputs": [],
   "source": [
    "input_string = input(\"Enter a string: \")\n",
    "index = 0\n",
    "reversed_string = \"\"\n",
    "\n",
    "while index < len(input_string):\n",
    "    char = input_string[index]\n",
    "    if char.islower():\n",
    "        reversed_string += char.upper()\n",
    "    elif char.isupper():\n",
    "        reversed_string += char.lower()\n",
    "    else:\n",
    "        reversed_string += char\n",
    "    index += 1\n",
    "print(\"Reversed case string:\", reversed_string)"
   ]
  },
  {
   "cell_type": "code",
   "execution_count": null,
   "id": "9b4ff3bf",
   "metadata": {},
   "outputs": [],
   "source": [
    "## 21.Create a function that returns the number of hashes and pluses in a string."
   ]
  },
  {
   "cell_type": "code",
   "execution_count": null,
   "id": "7fba682d",
   "metadata": {},
   "outputs": [],
   "source": [
    "input_string = input(\"Enter a string: \")\n",
    "hash_count = 0\n",
    "plus_count = 0\n",
    "index = 0\n",
    "\n",
    "while index < len(input_string):\n",
    "    if input_string[index] == '#':\n",
    "        hash_count += 1\n",
    "    elif input_string[index] == '+':\n",
    "        plus_count += 1\n",
    "    index += 1\n",
    "\n",
    "counts = [hash_count, plus_count]\n",
    "print(\"Counts:\", counts)"
   ]
  },
  {
   "cell_type": "markdown",
   "id": "5cef0d4c",
   "metadata": {},
   "source": [
    "#22 Given a one word lowercase string txt, return another string such that even-indexed and odd-indexed characters are grouped and groups are space-separated"
   ]
  },
  {
   "cell_type": "code",
   "execution_count": null,
   "id": "b0127b73",
   "metadata": {},
   "outputs": [],
   "source": [
    "x=str(input('enter the string: '))\n",
    "x1= x[::2]\n",
    "x2= x[1::2]\n",
    "while x<=x:\n",
    "    print(x1+' '+x2)\n",
    "    break\n"
   ]
  },
  {
   "cell_type": "markdown",
   "id": "5a9e74a9",
   "metadata": {},
   "source": [
    "## 22.Given a one word lowercase string txt, return another string such that even-indexed and odd-indexed characters are grouped and groups are space-separated."
   ]
  },
  {
   "cell_type": "code",
   "execution_count": null,
   "id": "5e9803ef",
   "metadata": {},
   "outputs": [],
   "source": [
    "x=str(input('enter the string: '))\n",
    "x1= x[::2]\n",
    "x2= x[1::2]\n",
    "while x<=x:\n",
    "    print(x1+' '+x2)\n",
    "    break"
   ]
  },
  {
   "cell_type": "code",
   "execution_count": null,
   "id": "ac1a14b3",
   "metadata": {},
   "outputs": [],
   "source": [
    "## 23.Create a function which returns the total of all odd numbers up to and including n. n will be given as an odd number."
   ]
  },
  {
   "cell_type": "code",
   "execution_count": null,
   "id": "d16a0e2c",
   "metadata": {},
   "outputs": [],
   "source": [
    "n = int(input(\"Enter an odd number: \"))\n",
    "total = 0\n",
    "current_number = 1\n",
    "\n",
    "while current_number <= n:\n",
    "    total += current_number\n",
    "    current_number += 2\n",
    "\n",
    "print(\"Total of all odd numbers:\", total)"
   ]
  },
  {
   "cell_type": "code",
   "execution_count": null,
   "id": "3bca6f85",
   "metadata": {},
   "outputs": [],
   "source": [
    "## 24.Create a function that takes a number n and returns the sum of all square numbers up to and including n."
   ]
  },
  {
   "cell_type": "code",
   "execution_count": null,
   "id": "58bf45ce",
   "metadata": {},
   "outputs": [],
   "source": [
    "n = int(input(\"Enter a number: \"))\n",
    "total_sum = 0\n",
    "current_number = 1\n",
    "\n",
    "while current_number <= n:\n",
    "    total_sum += current_number ** 2\n",
    "    current_number += 1\n",
    "\n",
    "print(\"Sum of square numbers:\", total_sum)"
   ]
  },
  {
   "cell_type": "code",
   "execution_count": null,
   "id": "a5968f76",
   "metadata": {},
   "outputs": [],
   "source": [
    "## 25.Given a list of numbers, negate all elements contained within.\n"
   ]
  },
  {
   "cell_type": "code",
   "execution_count": null,
   "id": "045f8933",
   "metadata": {},
   "outputs": [],
   "source": [
    "numbers = [int(x) for x in input(\"Enter a list of numbers separated by spaces: \").split()]\n",
    "index = 0\n",
    "while index < len(numbers):\n",
    "    numbers[index] = -numbers[index]\n",
    "    index += 1\n",
    "\n",
    "print(\"Negated list:\", numbers)"
   ]
  },
  {
   "cell_type": "markdown",
   "id": "989b3ea6",
   "metadata": {},
   "source": [
    "## 26.A number added with its additive inverse equals zero. Create a function that returns a list of additive inverses.\n",
    "\n",
    "### Examples\n",
    "* additive_inverse([5, -7, 8, 3]) ➞ [-5, 7, -8, -3]\n",
    "\n",
    "* additive_inverse([1, 1, 1, 1, 1]) ➞ [-1, -1, -1, -1, -1]\n",
    "\n",
    "* additive_inverse([-5, -25, 35]) ➞ [5, 25, -35]"
   ]
  },
  {
   "cell_type": "code",
   "execution_count": null,
   "id": "77991659",
   "metadata": {},
   "outputs": [],
   "source": [
    "numbers = [int(x) for x in input(\"Enter a list of numbers separated by spaces: \").split()]\n",
    "additive_inverses = []\n",
    "index = 0\n",
    "\n",
    "while index < len(numbers):\n",
    "    additive_inverses.append(-numbers[index])\n",
    "    index += 1\n",
    "\n",
    "print(\"Additive inverses:\", additive_inverses)"
   ]
  },
  {
   "cell_type": "markdown",
   "id": "742faacb",
   "metadata": {},
   "source": [
    "## 27.Write a function that takes the last number of a consecutive list of numbers and returns the total of all numbers up to and including it.\n",
    "\n",
    "### Examples\n",
    "* add_up_to(3) ➞ 6\n",
    "#1 + 2 + 3 = 6\n",
    "\n",
    "* add_up_to(10) ➞ 55\n",
    "#1 + 2 + 3 + ... + 10 = 55\n",
    "\n",
    "* add_up_to(7) ➞ 28\n",
    "#1 + 2 + 3 + ... + 7 = 28"
   ]
  },
  {
   "cell_type": "code",
   "execution_count": null,
   "id": "3ce85728",
   "metadata": {},
   "outputs": [],
   "source": [
    "last_number = int(input(\"Enter the last number: \"))\n",
    "total_sum = 0\n",
    "current_number = 1\n",
    "\n",
    "while current_number <= last_number:\n",
    "    total_sum += current_number\n",
    "    current_number += 1\n",
    "\n",
    "print(\"Total of all numbers:\", total_sum)"
   ]
  },
  {
   "cell_type": "markdown",
   "id": "83350dde",
   "metadata": {},
   "source": [
    "## 28.Create a function that takes two parameters (start, stop), and returns the sum of all even numbers in the range.\n",
    "\n",
    "###  Examples\n",
    "* sum_even_nums_in_range(10, 20) ➞ 90\n",
    "#10, 12, 14, 16, 18, 20\n",
    "\n",
    "* sum_even_nums_in_range(51, 150) ➞ 5050\n",
    "\n",
    "* sum_even_nums_in_range(63, 97) ➞ 1360"
   ]
  },
  {
   "cell_type": "code",
   "execution_count": null,
   "id": "da897894",
   "metadata": {},
   "outputs": [],
   "source": [
    "start = int(input(\"Enter the start number: \"))\n",
    "stop = int(input(\"Enter the stop number: \"))\n",
    "total_sum = 0\n",
    "current_number = start\n",
    "\n",
    "while current_number <= stop:\n",
    "    if current_number % 2 == 0:\n",
    "        total_sum += current_number\n",
    "    current_number += 1\n",
    "\n",
    "print(\"Sum of even numbers:\", total_sum)"
   ]
  },
  {
   "cell_type": "markdown",
   "id": "96d56042",
   "metadata": {},
   "source": [
    "## 29.A palindrome is a word that is identical forward and backwards.\n",
    "\n",
    "## mom\n",
    "## racecar\n",
    "## kayak\n",
    "## Given a word, create a function that checks whether it is a palindrome.\n",
    "\n",
    "### Examples\n",
    "* is_palindrome(\"mom\") ➞ True\n",
    "\n",
    "* is_palindrome(\"scary\") ➞ False\n",
    "\n",
    "* is_palindrome(\"reviver\") ➞ True\n",
    "\n",
    "* is_palindrome(\"stressed\") ➞ False"
   ]
  },
  {
   "cell_type": "code",
   "execution_count": null,
   "id": "6ffb7264",
   "metadata": {},
   "outputs": [],
   "source": [
    "word = input(\"Enter a word: \")\n",
    "is_palindrome = True\n",
    "start_index = 0\n",
    "end_index = len(word) - 1\n",
    "\n",
    "while start_index < end_index:\n",
    "    if word[start_index] != word[end_index]:\n",
    "        is_palindrome = False\n",
    "        break\n",
    "    start_index += 1\n",
    "    end_index -= 1\n",
    "if is_palindrome:\n",
    "    print(\"True\")\n",
    "else:\n",
    "    print(\"False\")"
   ]
  },
  {
   "cell_type": "markdown",
   "id": "80747ab8",
   "metadata": {},
   "source": [
    "## 30.Implement a function that returns a list containing all the consecutive numbers in ascendant order from the given value low up to the given value high (bounds included).\n",
    "\n",
    "### Examples\n",
    "* get_sequence(1, 5) ➞ [1, 2, 3, 4, 5]\n",
    "\n",
    "* get_sequence(98, 100) ➞ [98, 99, 100]\n",
    "\n",
    "* get_sequence(1000, 1000) ➞ [1000]\n"
   ]
  },
  {
   "cell_type": "code",
   "execution_count": null,
   "id": "4ea4239c",
   "metadata": {},
   "outputs": [],
   "source": [
    "low = int(input(\"Enter the low value: \"))\n",
    "high = int(input(\"Enter the high value: \"))\n",
    "consecutive_numbers = []\n",
    "current_number = low\n",
    "\n",
    "while current_number <= high:\n",
    "    consecutive_numbers.append(current_number)\n",
    "    current_number += 1\n",
    "\n",
    "print(\"Consecutive numbers:\", consecutive_numbers)"
   ]
  },
  {
   "cell_type": "markdown",
   "id": "c9da6433",
   "metadata": {},
   "source": [
    "## 31.Create a function that finds the index of a given item.\n",
    "\n",
    "### Examples\n",
    "* search([1, 5, 3], 5) ➞ 1\n",
    "\n",
    "* search([9, 8, 3], 3) ➞ 2\n",
    "\n",
    "* search([1, 2, 3], 4) ➞ -1"
   ]
  },
  {
   "cell_type": "code",
   "execution_count": null,
   "id": "3e16c9f6",
   "metadata": {},
   "outputs": [],
   "source": [
    "item_to_find = input(\"Enter the item to find: \")\n",
    "input_list = input(\"Enter a list of items separated by spaces: \").split()\n",
    "found_index = -1\n",
    "index = 0\n",
    "\n",
    "while index < len(input_list):\n",
    "    if input_list[index] == item_to_find:\n",
    "        found_index = index\n",
    "        break\n",
    "    index += 1\n",
    "\n",
    "if found_index != -1:\n",
    "    print(f\"The item '{item_to_find}' is found at index {found_index}.\")\n",
    "else:\n",
    "    print(f\"The item '{item_to_find}' is not found in the list.\")"
   ]
  },
  {
   "cell_type": "markdown",
   "id": "90fc38da",
   "metadata": {},
   "source": [
    "## 32.Given a string of letters, how many capital letters are there?\n",
    "\n",
    "### Examples\n",
    "* capital_letters(\"fvLzpxmgXSDrobbgMVrc\") ➞ 6\n",
    "\n",
    "* capital_letters(\"JMZWCneOTFLWYwBWxyFw\") ➞ 14\n",
    "\n",
    "* capital_letters(\"mqeytbbjwqemcdrdsyvq\") ➞ 0"
   ]
  },
  {
   "cell_type": "code",
   "execution_count": null,
   "id": "7b3938ab",
   "metadata": {},
   "outputs": [],
   "source": [
    "input_string = input(\"Enter a string of letters: \")\n",
    "capital_count = 0\n",
    "index = 0\n",
    "\n",
    "while index < len(input_string):\n",
    "    if input_string[index].isupper():\n",
    "        capital_count += 1\n",
    "    index += 1\n",
    "print(\"Number of capital letters:\", capital_count)"
   ]
  },
  {
   "cell_type": "markdown",
   "id": "b1a606ea",
   "metadata": {},
   "source": [
    "## 33.Create a function that takes a number num and returns the first 10 multiples of num with 1 added to it, separated by commas.\n",
    "\n",
    "### Examples\n",
    "* n_tables_plus_one(7) ➞ \"8,15,22,29,36,43,50,57,64,71\"\n",
    "\n",
    "* n_tables_plus_one(1) ➞ \"2,3,4,5,6,7,8,9,10,11\"\n",
    "\n",
    "* n_tables_plus_one(3) ➞ \"4,7,10,13,16,19,22,25,28,31\""
   ]
  },
  {
   "cell_type": "code",
   "execution_count": null,
   "id": "565cfada",
   "metadata": {},
   "outputs": [],
   "source": [
    "num = int(input(\"Enter a number: \"))\n",
    "multiples = []\n",
    "current_multiple = 1\n",
    "\n",
    "while len(multiples) < 10:\n",
    "    multiples.append(str(num * current_multiple + 1))\n",
    "    current_multiple += 1\n",
    "result = ', '.join(multiples)\n",
    "\n",
    "print(\"Multiples with 1 added:\", result)"
   ]
  },
  {
   "cell_type": "markdown",
   "id": "c898a5a3",
   "metadata": {},
   "source": [
    "## 34.This is a reverse coding challenge. Normally you're given explicit directions with how to create a function. Here, you must generate your own function to satisfy the relationship between the inputs and outputs.\n",
    "\n",
    "Your task is to create a function that, when fed the inputs below, produces the sample outputs shown.\n",
    "\n",
    "### Examples\n",
    "* [5, 7, 8, 2, 1], 2 ➞ [1, 1, 0, 0, 1]\n",
    "\n",
    "* [9, 8, 16, 47], 4 ➞ [1, 0, 0, 3]\n",
    "\n",
    "* [17, 11, 99, 55, 23, 1], 5 ➞ [2, 1, 4, 0, 3, 1]\n",
    "\n",
    "* [6, 1], 7 ➞ [6, 1]\n",
    "\n",
    "* [3, 2, 9], 3 ➞ [0, 2, 0]\n",
    "\n",
    "* [48, 22, 0, 19, 33, 100], 10 ➞ [8, 2, 0, 9, 3, 0]"
   ]
  },
  {
   "cell_type": "code",
   "execution_count": null,
   "id": "c7e64b9d",
   "metadata": {},
   "outputs": [],
   "source": [
    "input_list = [5, 7, 8, 2, 1]\n",
    "threshold = 2\n",
    "output_list = []\n",
    "index = 0\n",
    "\n",
    "while index < len(input_list):\n",
    "    if input_list[index] > threshold:\n",
    "        output_list.append(1)\n",
    "    else:\n",
    "        output_list.append(0)\n",
    "    index += 1\n",
    "\n",
    "print(\"Output list:\", output_list)"
   ]
  },
  {
   "cell_type": "markdown",
   "id": "89a8a8be",
   "metadata": {},
   "source": [
    "## 35.The insurance guy calls again. Apparently, they were informed by your spouse that some items were not stolen at all and you failed to mention this detail to them. This is a fraud attempt! You freeze and mumble something unintelligible. Find out what you said.\n",
    "\n",
    "### Given a dictionary, return a string that concatenates all the values and adds the 2nd key at the end. Make sure you keep an empty space between them but not at the beginning or end of the string. Look at the examples for a clearer picture.\n",
    "\n",
    "#### Examples\n",
    "* { 1: \"Mommy\", 2: \"please\", 3: \"help\" } ➞ \"Mommy please help please\"\n",
    "\n",
    "* { 1: \"Me\", 2: \"innocent\", 3: \"is\" } ➞ \"Me innocent is innocent\"\n",
    "\n",
    "* { 1: \"Must\", 2: \"lawyer\", 3: \"call\" } ➞ \"Must lawyer call lawyer\""
   ]
  },
  {
   "cell_type": "code",
   "execution_count": null,
   "id": "3e61cee1",
   "metadata": {},
   "outputs": [],
   "source": [
    "input_dict = {1: \"Mommy\", 2: \"please\", 3: \"help\"}\n",
    "result = ''\n",
    "second_key = None\n",
    "keys = list(input_dict.keys())\n",
    "index = 0\n",
    "\n",
    "while index < len(keys):\n",
    "    key = keys[index]\n",
    "    value = input_dict[key]\n",
    "    result += value + ' '\n",
    "    if index == 1:\n",
    "        second_key = key\n",
    "    index += 1\n",
    "\n",
    "if second_key:\n",
    "    result += input_dict[second_key]\n",
    "\n",
    "print(\"Concatenated string:\", result)\n"
   ]
  },
  {
   "cell_type": "markdown",
   "id": "9910f13f",
   "metadata": {},
   "source": [
    "## 36.Create a function that adds a string ending to each member in a list.\n",
    "\n",
    "## Examples\n",
    "* add_ending([\"clever\", \"meek\", \"hurried\", \"nice\"], \"ly\")\n",
    "➞ [\"cleverly\", \"meekly\", \"hurriedly\", \"nicely\"]\n",
    "\n",
    "* add_ending([\"new\", \"pander\", \"scoop\"], \"er\")\n",
    "➞ [\"newer\", \"panderer\", \"scooper\"]\n",
    "\n",
    "* add_ending([\"bend\", \"sharpen\", \"mean\"], \"ing\")\n",
    "➞ [\"bending\", \"sharpening\", \"meaning\"]"
   ]
  },
  {
   "cell_type": "code",
   "execution_count": null,
   "id": "b7004868",
   "metadata": {},
   "outputs": [],
   "source": [
    "ending = input(\"Enter the string ending: \")\n",
    "input_list = input(\"Enter a list of strings separated by spaces: \").split()\n",
    "index = 0\n",
    "while index < len(input_list):\n",
    "    input_list[index] += ending\n",
    "    index += 1\n",
    "print(\"Modified list:\", input_list)"
   ]
  },
  {
   "cell_type": "markdown",
   "id": "b42f16e9",
   "metadata": {},
   "source": [
    "## 37.Create a function that takes a list of numbers and returns the sum of its cubes.\n",
    "\n",
    "### Examples\n",
    "* sum_of_cubes([1, 5, 9]) ➞ 855\n",
    "\n",
    "#Since 1^3 + 5^3 + 9^3 = 1 + 125 + 729 = 855\n",
    "\n",
    "* sum_of_cubes([3, 4, 5]) ➞ 216\n",
    "\n",
    "* sum_of_cubes([2]) ➞ 8\n",
    "\n",
    "* sum_of_cubes([]) ➞ 0"
   ]
  },
  {
   "cell_type": "code",
   "execution_count": null,
   "id": "adfabad0",
   "metadata": {},
   "outputs": [],
   "source": [
    "input_list = [int(x) for x in input(\"Enter a list of numbers separated by spaces: \").split()]\n",
    "sum_of_cubes = 0\n",
    "index = 0\n",
    "\n",
    "while index < len(input_list):\n",
    "    sum_of_cubes += input_list[index] ** 3\n",
    "    index += 1\n",
    "print(\"Sum of cubes:\", sum_of_cubes)"
   ]
  },
  {
   "cell_type": "markdown",
   "id": "023344e1",
   "metadata": {},
   "source": [
    "## 38.Create a function that returns the minimum number of elements removed to make the sum of all elements in a list even.\n",
    "\n",
    "### Examples\n",
    "* minimum_removals([1, 2, 3, 4, 5]) ➞ 1\n",
    "\n",
    "* minimum_removals([5, 7, 9, 11]) ➞ 0\n",
    "\n",
    "* minimum_removals([5, 7, 9, 12]) ➞ 1"
   ]
  },
  {
   "cell_type": "code",
   "execution_count": null,
   "id": "8f45886c",
   "metadata": {},
   "outputs": [],
   "source": [
    "input_list = [int(x) for x in input(\"Enter a list of numbers separated by spaces: \").split()]\n",
    "total_sum = 0\n",
    "index = 0\n",
    "\n",
    "while index < len(input_list):\n",
    "    total_sum += input_list[index]\n",
    "    index += 1\n",
    "removed_count = 0\n",
    "if total_sum % 2 != 0:\n",
    "    removed_count = 1\n",
    "print(\"Minimum elements to remove:\", removed_count)\n"
   ]
  },
  {
   "cell_type": "markdown",
   "id": "1cd08bba",
   "metadata": {},
   "source": [
    "## 39.Create a function that takes a number as an argument and returns a list of numbers counting down from this number to zero.\n",
    "\n",
    "### Examples\n",
    "* countdown(5) ➞ [5, 4, 3, 2, 1, 0]\n",
    "\n",
    "*  countdown(1) ➞ [1, 0]\n",
    "\n",
    "* countdown(0) ➞ [0]"
   ]
  },
  {
   "cell_type": "code",
   "execution_count": null,
   "id": "83a7625a",
   "metadata": {},
   "outputs": [],
   "source": [
    "i=int(input(''))\n",
    "while i>=1:\n",
    "    i-=1\n",
    "    print(i, end=',')"
   ]
  },
  {
   "cell_type": "markdown",
   "id": "c6f1cc04",
   "metadata": {},
   "source": [
    "## 40.Create a function that takes a string road and returns the car that's in first place. The road will be made of \"=\", and cars will be represented by letters in the alphabet.\n",
    "\n",
    "### Examples\n",
    "* first_place(\"====b===O===e===U=A==\") ➞ \"A\"\n",
    "\n",
    "* first_place(\"e==B=Fe\") ➞ \"e\"\n",
    "\n",
    "* first_place(\"proeNeoOJGnfl\") ➞ \"l\""
   ]
  },
  {
   "cell_type": "code",
   "execution_count": null,
   "id": "ab592358",
   "metadata": {},
   "outputs": [],
   "source": [
    "road = input(\"Enter the road with cars: \")\n",
    "index = len(road) - 1\n",
    "first_car = None\n",
    "\n",
    "while index >= 0:\n",
    "    if road[index].isalpha():\n",
    "        first_car = road[index]\n",
    "        break\n",
    "    index -= 1\n",
    "if first_car:\n",
    "    print(\"Car in first place :\", first_car)\n",
    "else:\n",
    "    print(\"No cars on the road.\")\n"
   ]
  },
  {
   "cell_type": "markdown",
   "id": "10ae3a38",
   "metadata": {},
   "source": [
    "## 41.When resistors are connected together in series, the same current passes through each resistor in the chain and the total resistance, RT, of the circuit must be equal to the sum of all the individual resistors added together. That is:\n",
    "\n",
    "###  RT = R1 + R2 + R3 ...Create a function that takes an array of values resistance that are connected in series, and calculates the total resistance of the circuit in ohms. The ohm is the standard unit of electrical resistance in the International System of Units ( SI ).\n",
    "\n",
    "### Examples\n",
    "* series_resistance([1, 5, 6, 3]) ➞ \"15 ohms\"\n",
    "\n",
    "* series_resistance([16, 3.5, 6]) ➞ \"25.5 ohms\"\n",
    "\n",
    "* series_resistance([0.5, 0.5]) ➞ \"1.0 ohm\""
   ]
  },
  {
   "cell_type": "code",
   "execution_count": null,
   "id": "9760ee91",
   "metadata": {},
   "outputs": [],
   "source": [
    "resistances = [0.5, 0.5]\n",
    "total_resistance = 0\n",
    "index = 0\n",
    "\n",
    "while index < len(resistances):\n",
    "    total_resistance += resistances[index]\n",
    "    index += 1\n",
    "\n",
    "print(f\"{total_resistance:.1f} ohms\")"
   ]
  },
  {
   "cell_type": "markdown",
   "id": "03bea688",
   "metadata": {},
   "source": [
    "## 42.Create a function which concatenates the number 7 to the end of every chord in a list. Ignore all chords which already end with 7.\n",
    "\n",
    "### Examples\n",
    "* jazzify([\"G\", \"F\", \"C\"]) ➞ [\"G7\", \"F7\", \"C7\"]\n",
    "\n",
    "* jazzify([\"Dm\", \"G\", \"E\", \"A\"]) ➞ [\"Dm7\", \"G7\", \"E7\", \"A7\"]\n",
    "\n",
    "* jazzify([\"F7\", \"E7\", \"A7\", \"Ab7\", \"Gm7\", \"C7\"]) ➞ [\"F7\", \"E7\", \"A7\", \"Ab7\", \"Gm7\", \"C7\"]\n",
    "\n",
    "* jazzify([]) ➞ []"
   ]
  },
  {
   "cell_type": "code",
   "execution_count": null,
   "id": "a62e4a28",
   "metadata": {},
   "outputs": [],
   "source": [
    "chords =  [\"Dm\", \"G\", \"E\", \"A\"]\n",
    "result_chords = []\n",
    "index = 0\n",
    "\n",
    "while index < len(chords):\n",
    "    chord = chords[index]\n",
    "    if not chord.endswith(\"7\"):\n",
    "        chord += \"7\"\n",
    "    result_chords.append(chord)\n",
    "    index += 1\n",
    "\n",
    "print(result_chords)"
   ]
  },
  {
   "cell_type": "markdown",
   "id": "a317817d",
   "metadata": {},
   "source": [
    "## 43.Create a function that returns a base-2 (binary) representation of a base-10 (decimal) string number. To convert is simple: ((2) means base-2 and (10) means base-10) 010101001(2) = 1 + 8 + 32 + 128.\n",
    "\n",
    "### Going from right to left, the value of the most right bit is 1, now from that every bit to the left will be x2 the value, value of an 8 bit binary numbers are (256, 128, 64, 32, 16, 8, 4, 2, 1).\n",
    "\n",
    "### Examples\n",
    "* binary(1) ➞ \"1\"\n",
    "#1*1 = 1\n",
    "\n",
    "* binary(5) ➞ \"101\"\n",
    "#1*1 + 1*4 = 5\n",
    "\n",
    "* binary(10) ➞ \"1010\"\n",
    "#1*2 + 1*8 = 10"
   ]
  },
  {
   "cell_type": "code",
   "execution_count": null,
   "id": "3fb9c66b",
   "metadata": {},
   "outputs": [],
   "source": [
    "decimal_number = int(input(\"Enter a base-10 decimal number: \"))\n",
    "binary_representation = \"\"\n",
    "quotient = decimal_number\n",
    "\n",
    "while quotient > 0:\n",
    "    remainder = quotient % 2\n",
    "    binary_representation = str(remainder) + binary_representation\n",
    "    quotient = quotient // 2\n",
    "\n",
    "print(\"Binary representation:\", binary_representation)"
   ]
  },
  {
   "cell_type": "markdown",
   "id": "653571c6",
   "metadata": {},
   "source": [
    "## 44.Create a function that takes a string and returns the number (count) of vowels contained within it.\n",
    "\n",
    "### Examples\n",
    "* count_vowels(\"Celebration\") ➞ 5\n",
    "\n",
    "* count_vowels(\"Palm\") ➞ 1\n",
    "\n",
    "* count_vowels(\"Prediction\") ➞ 4"
   ]
  },
  {
   "cell_type": "code",
   "execution_count": null,
   "id": "1fb4cee4",
   "metadata": {},
   "outputs": [],
   "source": [
    "input_string = input(\"Enter a string: \")\n",
    "vowel_count = 0\n",
    "index = 0\n",
    "\n",
    "while index < len(input_string):\n",
    "    char = input_string[index]\n",
    "    if char.lower() in \"aeiou\":\n",
    "        vowel_count += 1\n",
    "    index += 1\n",
    "\n",
    "print(\"Number of vowels:\", vowel_count)"
   ]
  },
  {
   "cell_type": "markdown",
   "id": "54141a95",
   "metadata": {},
   "source": [
    "## 45.Create a function that takes a list and finds the integer which appears an odd number of times.\n",
    "\n",
    "### Examples\n",
    "* find_odd([1, 1, 2, -2, 5, 2, 4, 4, -1, -2, 5]) ➞ -1\n",
    "\n",
    "* find_odd([20, 1, 1, 2, 2, 3, 3, 5, 5, 4, 20, 4, 5]) ➞ 5\n",
    "\n",
    "* find_odd([10]) ➞ 10\n"
   ]
  },
  {
   "cell_type": "code",
   "execution_count": null,
   "id": "7a4a97de",
   "metadata": {},
   "outputs": [],
   "source": [
    "num_list = [int(x) for x in input(\"Enter a list of integers separated by spaces: \").split()]\n",
    "odd_appearing_integer = None\n",
    "index = 0\n",
    "\n",
    "while index < len(num_list):\n",
    "    num = num_list[index]\n",
    "    if num_list.count(num) % 2 == 1:\n",
    "        odd_appearing_integer = num\n",
    "        break\n",
    "    index += 1\n",
    "\n",
    "print(\"Integer that appears an odd number of times:\", odd_appearing_integer)"
   ]
  },
  {
   "cell_type": "markdown",
   "id": "e1968acb",
   "metadata": {},
   "source": [
    "## 46.Hamming distance is the number of characters that differ between two strings.\n",
    "\n",
    "### To illustrate:     String1: \"abcbba\"    ,String2: \"abcbda\"\n",
    "### Hamming Distance: 1 - \"b\" vs. \"d\" is the only difference.Create a function that computes the hamming distance between two strings.\n",
    "\n",
    "### Examples\n",
    "* hamming_distance(\"abcde\", \"bcdef\") ➞ 5\n",
    "\n",
    "* hamming_distance(\"abcde\", \"abcde\") ➞ 0\n",
    "\n",
    "* hamming_distance(\"strong\", \"strung\") ➞ 1"
   ]
  },
  {
   "cell_type": "code",
   "execution_count": null,
   "id": "0a524e65",
   "metadata": {},
   "outputs": [],
   "source": [
    "string1 = input(\"Enter the first string: \")\n",
    "string2 = input(\"Enter the second string: \")\n",
    "hamming_distance = 0\n",
    "index = 0\n",
    "\n",
    "while index < len(string1):\n",
    "    if string1[index] != string2[index]:\n",
    "        hamming_distance += 1\n",
    "    index += 1\n",
    "\n",
    "print(\"Hamming Distance:\", hamming_distance)"
   ]
  },
  {
   "cell_type": "markdown",
   "id": "6b0be880",
   "metadata": {},
   "source": [
    "## 47.Create a function that takes a list of non-negative integers and strings and return a new list without the strings.\n",
    "\n",
    "### Examples\n",
    "* filter_list([1, 2, \"a\", \"b\"]) ➞ [1, 2]\n",
    "\n",
    "* filter_list([1, \"a\", \"b\", 0, 15]) ➞ [1, 0, 15]\n",
    "\n",
    "* filter_list([1, 2, \"aasf\", \"1\", \"123\", 123]) ➞ [1, 2, 123]"
   ]
  },
  {
   "cell_type": "code",
   "execution_count": null,
   "id": "2e8e0e36",
   "metadata": {},
   "outputs": [],
   "source": [
    "input_list = input(\"Enter a list of non-negative integers and strings separated by commas: \").split(\",\")\n",
    "filtered_list = []\n",
    "index = 0\n",
    "\n",
    "while index < len(input_list):\n",
    "    item = input_list[index]\n",
    "    if isinstance(item, int) and item >= 0:\n",
    "        filtered_list.append(item)\n",
    "    index += 1\n",
    "\n",
    "print(\"Filtered list:\", filtered_list)\n"
   ]
  },
  {
   "cell_type": "markdown",
   "id": "c7b88c83",
   "metadata": {},
   "source": [
    "## 48.Create a function that takes a list of strings and integers, and filters out the list so that it returns a list of integers only.\n",
    "\n",
    "### Examples\n",
    "* filter_list([1, 2, 3, \"a\", \"b\", 4]) ➞ [1, 2, 3, 4]\n",
    "\n",
    "* filter_list([\"A\", 0, \"Edabit\", 1729, \"Python\", \"1729\"]) ➞ [0, 1729]\n",
    "\n",
    "* filter_list([\"Nothing\", \"here\"]) ➞ []\n"
   ]
  },
  {
   "cell_type": "code",
   "execution_count": null,
   "id": "a9306631",
   "metadata": {},
   "outputs": [],
   "source": [
    "input_str = input(\"Enter a list of strings and integers: \")\n",
    "input_list = eval(input_str)\n",
    "filtered_list = []\n",
    "index = 0\n",
    "\n",
    "while index < len(input_list):\n",
    "    item = input_list[index]\n",
    "    if isinstance(item, int):\n",
    "        filtered_list.append(item)\n",
    "    index += 1\n",
    "\n",
    "print(\"Filtered list of integers:\", filtered_list)\n"
   ]
  },
  {
   "cell_type": "markdown",
   "id": "918970d7",
   "metadata": {},
   "source": [
    "## 49.Given a list of numbers, create a function which returns the list but with each element's index in the list added to itself. This means you add 0 to the number at index 0, add 1 to the number at index 1, etc...\n",
    "\n",
    "### Examples\n",
    "add_indexes([0, 0, 0, 0, 0]) ➞ [0, 1, 2, 3, 4]\n",
    "\n",
    "add_indexes([1, 2, 3, 4, 5]) ➞ [1, 3, 5, 7, 9]\n",
    "\n",
    "add_indexes([5, 4, 3, 2, 1]) ➞ [5, 5, 5, 5, 5]"
   ]
  },
  {
   "cell_type": "code",
   "execution_count": null,
   "id": "8c974643",
   "metadata": {},
   "outputs": [],
   "source": [
    "input_str = input(\"Enter a list of numbers: \")\n",
    "input_list = eval(input_str)\n",
    "result_list = []\n",
    "index = 0\n",
    "\n",
    "while index < len(input_list):\n",
    "    result_list.append(input_list[index] + index)\n",
    "    index += 1\n",
    "\n",
    "print(\"Resulting list with added indexes:\", result_list)\n"
   ]
  },
  {
   "cell_type": "markdown",
   "id": "b6c9220d",
   "metadata": {},
   "source": [
    "## 50.This Triangular Number Sequence is generated from a pattern of dots that form a triangle. The first 5 numbers of the sequence, or dots, are:1, 3, 6, 10, 15      This means that the first triangle has just one dot, the second one has three dots, the third one has 6 dots and so on.          Write a function that returns the number of dots when given its corresponding triangle number of the sequence.\n",
    "\n",
    "### Examples\n",
    "* triangle(1) ➞ 1\n",
    "\n",
    "* triangle(6) ➞ 21\n",
    "\n",
    "* triangle(215) ➞ 23220\n"
   ]
  },
  {
   "cell_type": "code",
   "execution_count": null,
   "id": "d0b27713",
   "metadata": {},
   "outputs": [],
   "source": [
    "n = int(input(\"Enter the triangle number: \"))\n",
    "num_dots = 0\n",
    "i = 1\n",
    "\n",
    "while i <= n:\n",
    "    num_dots += i\n",
    "    i += 1\n",
    "\n",
    "print(\"Number of dots:\", num_dots)\n"
   ]
  },
  {
   "cell_type": "code",
   "execution_count": null,
   "id": "eb4204c3",
   "metadata": {},
   "outputs": [],
   "source": []
  },
  {
   "cell_type": "code",
   "execution_count": null,
   "id": "9fcc5630",
   "metadata": {},
   "outputs": [],
   "source": []
  },
  {
   "cell_type": "code",
   "execution_count": null,
   "id": "2df5eb16",
   "metadata": {},
   "outputs": [],
   "source": []
  },
  {
   "cell_type": "code",
   "execution_count": null,
   "id": "e5d1e12f",
   "metadata": {},
   "outputs": [],
   "source": []
  },
  {
   "cell_type": "code",
   "execution_count": null,
   "id": "19c06839",
   "metadata": {},
   "outputs": [],
   "source": []
  }
 ],
 "metadata": {
  "kernelspec": {
   "display_name": "Python 3 (ipykernel)",
   "language": "python",
   "name": "python3"
  },
  "language_info": {
   "codemirror_mode": {
    "name": "ipython",
    "version": 3
   },
   "file_extension": ".py",
   "mimetype": "text/x-python",
   "name": "python",
   "nbconvert_exporter": "python",
   "pygments_lexer": "ipython3",
   "version": "3.11.3"
  }
 },
 "nbformat": 4,
 "nbformat_minor": 5
}
